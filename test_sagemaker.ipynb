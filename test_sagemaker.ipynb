{
 "cells": [
  {
   "cell_type": "code",
   "execution_count": 15,
   "id": "dffbbc8a-97bd-43bb-b5e8-e976b4792e89",
   "metadata": {
    "tags": []
   },
   "outputs": [],
   "source": [
    "from broverse import Action, Flow, End"
   ]
  },
  {
   "cell_type": "code",
   "execution_count": 30,
   "id": "4ca94e0f-6b79-49b5-bb47-18f62e159269",
   "metadata": {
    "tags": []
   },
   "outputs": [],
   "source": [
    "from broverse.bedrock import BedrockChat"
   ]
  },
  {
   "cell_type": "code",
   "execution_count": 16,
   "id": "ad2d0a52-fcab-41e8-a660-4a9b57509259",
   "metadata": {
    "tags": []
   },
   "outputs": [],
   "source": [
    "class Start(Action):\n",
    "    def __init__(self, message, next_action):\n",
    "        super().__init__()\n",
    "        self.message = message\n",
    "        self.next_action = next_action\n",
    "        \n",
    "    def run(self, shared):\n",
    "        print(self.message)\n",
    "        shared['action'] = self.next_action\n",
    "        return shared"
   ]
  },
  {
   "cell_type": "code",
   "execution_count": 17,
   "id": "59ef7ebe-7921-4d49-a5cd-fc2031bce12e",
   "metadata": {
    "tags": []
   },
   "outputs": [],
   "source": [
    "from inspect import isfunction, isclass\n",
    "\n",
    "class Input(Action):\n",
    "    def run(self, shared):\n",
    "        user_input = input(\"You:\")\n",
    "        shared['user_input'] = user_input\n",
    "        shared['action'] = 'command'\n",
    "        return shared\n",
    "    \n",
    "class Command(Action):\n",
    "    def command_type(self, user_input:str):\n",
    "        if user_input.startswith('/clear'):\n",
    "            return 'clear'\n",
    "        if user_input.startswith('/exit'):\n",
    "            return 'end'\n",
    "        return 'continue'\n",
    "    \n",
    "    def run(self, shared):\n",
    "        user_input = shared.get('user_input', 'no input')\n",
    "        shared['command'] = self.command_type(user_input)\n",
    "        action['action'] = 'tool'\n",
    "        return shared\n",
    "    \n",
    "class Tools(Action):\n",
    "    def __init__(self, tools):\n",
    "        super().__init__()\n",
    "        self.tools = self.register_tools(tools)\n",
    "    \n",
    "    def register_tools(self, tools):\n",
    "        self.tools = {}\n",
    "        for tool in tools:\n",
    "            name = tool.__name__\n",
    "\n",
    "    def extract_params(self, shared):\n",
    "        command = shared['command'].get('command', 'no command')\n",
    "        user_input = shared.get(\"user_input\", 'no input')\n",
    "        \n",
    "        return shared\n",
    "            \n",
    "    def run(self, shared):\n",
    "        shared['user_input'] = ''\n",
    "        shared['action'] = 'continue'\n",
    "        return shared\n",
    "\n",
    "class Tool(Action):\n",
    "    pass"
   ]
  },
  {
   "cell_type": "code",
   "execution_count": 39,
   "id": "8e0a3030-1e1a-4cdb-9cd6-9273538bf06f",
   "metadata": {
    "tags": []
   },
   "outputs": [
    {
     "data": {
      "text/plain": [
       "(__main__.Test, 'test')"
      ]
     },
     "execution_count": 39,
     "metadata": {},
     "output_type": "execute_result"
    }
   ],
   "source": [
    "class Test(Action):\n",
    "    \"\"\"abc\"\"\"\n",
    "    pass\n",
    "\n",
    "def test():\n",
    "    \"\"\"def\"\"\"\n",
    "    ...\n",
    "_test = Test()\n",
    "_test.__class__, test.__name__"
   ]
  },
  {
   "cell_type": "code",
   "execution_count": 50,
   "id": "365d271f-efe4-4863-9715-6b6e5c38b771",
   "metadata": {
    "tags": []
   },
   "outputs": [
    {
     "data": {
      "text/plain": [
       "True"
      ]
     },
     "execution_count": 50,
     "metadata": {},
     "output_type": "execute_result"
    }
   ],
   "source": [
    "from inspect import isfunction, isclass\n",
    "\n",
    "isfunction(test)\n",
    "\n"
   ]
  },
  {
   "cell_type": "code",
   "execution_count": 40,
   "id": "317bf784-8964-4391-b786-3617449f8fb1",
   "metadata": {
    "tags": []
   },
   "outputs": [
    {
     "data": {
      "text/plain": [
       "('abc', 'def')"
      ]
     },
     "execution_count": 40,
     "metadata": {},
     "output_type": "execute_result"
    }
   ],
   "source": [
    "_test.__doc__, test.__doc__"
   ]
  },
  {
   "cell_type": "code",
   "execution_count": 41,
   "id": "7a626e78-e13e-478f-bf2d-ef5ea83e75f3",
   "metadata": {
    "tags": []
   },
   "outputs": [
    {
     "data": {
      "text/plain": [
       "function"
      ]
     },
     "execution_count": 41,
     "metadata": {},
     "output_type": "execute_result"
    }
   ],
   "source": [
    "type(test)"
   ]
  },
  {
   "cell_type": "code",
   "execution_count": 42,
   "id": "3e4454b9-553d-4ef3-972f-cb3bfdc98698",
   "metadata": {
    "tags": []
   },
   "outputs": [
    {
     "data": {
      "text/plain": [
       "__main__.Test"
      ]
     },
     "execution_count": 42,
     "metadata": {},
     "output_type": "execute_result"
    }
   ],
   "source": [
    "type(_test)"
   ]
  },
  {
   "cell_type": "code",
   "execution_count": 47,
   "id": "d8b04156-2cc8-42a5-a821-65d721714a39",
   "metadata": {
    "tags": []
   },
   "outputs": [
    {
     "data": {
      "text/plain": [
       "True"
      ]
     },
     "execution_count": 47,
     "metadata": {},
     "output_type": "execute_result"
    }
   ],
   "source": [
    "isinstance(_test, Action)"
   ]
  },
  {
   "cell_type": "code",
   "execution_count": 18,
   "id": "b5e46251-f060-4693-8469-0016817bb5ed",
   "metadata": {
    "tags": []
   },
   "outputs": [],
   "source": [
    "input_action = Input()\n",
    "command_action = Command()\n",
    "clear_action = Clear()\n",
    "start_action = Start(message=\"Start\", next_action=\"user_input\")\n",
    "end_action = End(message=\"End\")"
   ]
  },
  {
   "cell_type": "code",
   "execution_count": 19,
   "id": "824ba484-e305-43d2-a057-210d182b4fa9",
   "metadata": {
    "tags": []
   },
   "outputs": [
    {
     "data": {
      "text/plain": [
       "<broverse.action.End at 0x7f0e644c92d0>"
      ]
     },
     "execution_count": 19,
     "metadata": {},
     "output_type": "execute_result"
    }
   ],
   "source": [
    "start_action - \"user_input\" >> input_action\n",
    "input_action - \"command\" >> command_action\n",
    "command_action - \"clear\" >> clear_action\n",
    "\n",
    "for action in [command_action, clear_action]:\n",
    "    action - \"continue\" >> input_action\n",
    "\n",
    "command_action - \"end\" >> end_action"
   ]
  },
  {
   "cell_type": "code",
   "execution_count": 20,
   "id": "e44f8b9d-4320-4fba-9241-219065c4fefe",
   "metadata": {
    "tags": []
   },
   "outputs": [],
   "source": [
    "flow = Flow(start_action=start_action)"
   ]
  },
  {
   "cell_type": "code",
   "execution_count": 21,
   "id": "34e3928f-85c8-4ce0-97ca-a5e12656308f",
   "metadata": {
    "tags": []
   },
   "outputs": [
    {
     "name": "stdout",
     "output_type": "stream",
     "text": [
      "```mermaid\n",
      "flowchart TD\n",
      "    Start -->|user_input| Input\n",
      "    Input -->|command| Command\n",
      "    Command -->|clear| Clear\n",
      "    Clear -->|continue| Input\n",
      "    Command -->|continue| Input\n",
      "    Command -->|end| End\n",
      "```\n"
     ]
    }
   ],
   "source": [
    "chart = flow.to_mermaid()\n",
    "print(chart)"
   ]
  },
  {
   "cell_type": "code",
   "execution_count": 27,
   "id": "d80c427a-8def-4759-b2f2-a7db6d960e2f",
   "metadata": {
    "tags": []
   },
   "outputs": [
    {
     "name": "stdout",
     "output_type": "stream",
     "text": [
      "Start\n"
     ]
    },
    {
     "name": "stdin",
     "output_type": "stream",
     "text": [
      "You: \n",
      "You: \n",
      "You: \n",
      "You: \n",
      "You: \n",
      "You: /exit\n"
     ]
    },
    {
     "name": "stdout",
     "output_type": "stream",
     "text": [
      "End\n"
     ]
    }
   ],
   "source": [
    "shared={}\n",
    "flow.run(shared=shared)"
   ]
  },
  {
   "cell_type": "code",
   "execution_count": 28,
   "id": "a8c3afb1-cf59-4b1f-ab20-dfba0ca1173c",
   "metadata": {
    "tags": []
   },
   "outputs": [
    {
     "data": {
      "text/plain": [
       "{'action': None, 'user_input': '/exit'}"
      ]
     },
     "execution_count": 28,
     "metadata": {},
     "output_type": "execute_result"
    }
   ],
   "source": [
    "shared"
   ]
  },
  {
   "cell_type": "code",
   "execution_count": 31,
   "id": "9a8965d0-de47-4643-a679-944a3b3fbd4b",
   "metadata": {
    "tags": []
   },
   "outputs": [
    {
     "data": {
      "text/plain": [
       "'How can I assist you today?'"
      ]
     },
     "execution_count": 31,
     "metadata": {},
     "output_type": "execute_result"
    }
   ],
   "source": [
    "model = BedrockChat()\n",
    "system_prompt = \"You are a helpful assistant\"\n",
    "messages = [\n",
    "    model.UserMessage(text=\"Hi\")\n",
    "]\n",
    "response = model.run(system_prompt, messages)\n",
    "response"
   ]
  },
  {
   "cell_type": "code",
   "execution_count": null,
   "id": "fa010339-7d0d-4847-ba96-88e3528abea5",
   "metadata": {},
   "outputs": [],
   "source": [
    "class CreateCalendar(Action):\n",
    "    \"\"\"This agent can create a calendar\n",
    "    \"\"\"\n",
    "    def __init__(self, shared):\n",
    "        pass\n",
    "    \n",
    "    def __call__(self, shared):\n",
    "        return self.run(shared)\n",
    "    \n",
    "    def run(self, shared):\n",
    "        return shared"
   ]
  },
  {
   "cell_type": "markdown",
   "id": "4632358f-20f7-4298-adca-2246e20d16c8",
   "metadata": {},
   "source": [
    "What if: \n",
    "\n",
    "- router can call agent which has tools"
   ]
  },
  {
   "cell_type": "code",
   "execution_count": 226,
   "id": "c43db1ed-460c-4705-833a-d0ad00184191",
   "metadata": {
    "tags": []
   },
   "outputs": [],
   "source": [
    "import inspect\n",
    "import typing\n",
    "from typing import get_type_hints\n",
    "import json\n",
    "\n",
    "class Tools(Action):\n",
    "    def __init__(self, system_prompt:str, model:BedrockChat, tools:list):\n",
    "        super().__init__()\n",
    "        self.system_prompt = system_prompt\n",
    "        self.model = model\n",
    "        self.tools = self.register_tools(tools)\n",
    "\n",
    "    def convert_to_tool(self, func)->dict:\n",
    "        sig = inspect.signature(func)\n",
    "        type_hints = get_type_hints(func)\n",
    "\n",
    "        parameters = {\n",
    "            \"type\": \"object\",\n",
    "            \"properties\": {},\n",
    "            \"required\": []\n",
    "        }\n",
    "\n",
    "        for name, param in sig.parameters.items():\n",
    "            param_type = type_hints.get(name, str)\n",
    "            param_schema = {\"type\": python_type_to_json_type(param_type)}\n",
    "            parameters[\"properties\"][name] = param_schema\n",
    "            if param.default is param.empty:\n",
    "                parameters[\"required\"].append(name)\n",
    "\n",
    "        tool = {\n",
    "            \"name\": func.__name__,\n",
    "            \"description\": func.__doc__ or \"\",\n",
    "            \"parameters\": parameters\n",
    "        }\n",
    "\n",
    "        return tool\n",
    "\n",
    "\n",
    "    def python_type_to_json_type(self, py_type):\n",
    "        origin = typing.get_origin(py_type) or py_type\n",
    "\n",
    "        if origin in [int]:\n",
    "            return \"integer\"\n",
    "        elif origin in [float]:\n",
    "            return \"number\"\n",
    "        elif origin in [bool]:\n",
    "            return \"boolean\"\n",
    "        elif origin in [str]:\n",
    "            return \"string\"\n",
    "        elif origin in [list, tuple]:\n",
    "            return \"array\"\n",
    "        elif origin in [dict]:\n",
    "            return \"object\"\n",
    "        else:\n",
    "            return \"string\"  # fallback\n",
    "        \n",
    "    def get_params(self, tool):\n",
    "        return self.convert_to_tool(tool)\n",
    "        \n",
    "    def register_tools(self, tools):\n",
    "        _tools = {}\n",
    "        for tool, action in tools:\n",
    "            tool_definition = self.get_params(tool)\n",
    "            name = tool_definition.get(\"name\", None)\n",
    "            _tools[name] = {\n",
    "                \"definition\": tool_definition,\n",
    "                \"tool\": tool,\n",
    "                \"action\": action\n",
    "            }\n",
    "        return _tools\n",
    "    def parse_str_to_json(self, params):\n",
    "        params = params.split(\"```json\")\n",
    "        if len(params)>1:\n",
    "            params = params[1]\n",
    "        else:\n",
    "            params = params[0]\n",
    "        params = params.split(\"```\")[0]\n",
    "        return json.loads(params)\n",
    "        \n",
    "    def run(self, shared):\n",
    "        user_input = shared.get('user_input', 'no input')\n",
    "        tool_name = shared.get('tool', 'no tool')\n",
    "        tool = self.tools.get(tool_name, None)\n",
    "        definition = tool.get('definition', None)\n",
    "        action = tool.get('action', None)\n",
    "        tool = tool.get('tool', None)\n",
    "        prompt = f\"USER_INPUT: \\n\\n{user_input}\\n\\n\"\n",
    "        params = self.model.run(system_prompt=self.system_prompt.format(definition=json.dumps(definition)), messages=[self.model.UserMessage(text=prompt)])\n",
    "        params = self.parse_str_to_json(params)\n",
    "        params.update({\"shared\": shared})\n",
    "        shared['params'] = params\n",
    "        response = tool(**params)\n",
    "        shared['tool_res'] = response\n",
    "        shared['action'] = action\n",
    "        return shared\n",
    "\n",
    "def add(a:int, b:int, **kwargs):\n",
    "    \"\"\"Add two numbers together\"\"\"\n",
    "    return a+b\n",
    "    \n",
    "def clear_user_input(shared:dict, **kwargs):\n",
    "    \"\"\"Clear user input\"\"\"\n",
    "    shared['user_input'] = ''\n",
    "    return shared"
   ]
  },
  {
   "cell_type": "code",
   "execution_count": 227,
   "id": "c84dfd5e-4960-4a4c-a3db-91840ffc8ba3",
   "metadata": {
    "tags": []
   },
   "outputs": [],
   "source": [
    "tool_prompt = \"\"\"\\\n",
    "You are a function argument extractor. \n",
    "Extract USER_INPUT required to call the function. Return a JSON object that matches the parameters schema exactly. Only include the keys that are required.\n",
    "\n",
    "Given the following function definition:\n",
    "DEFINITION\n",
    "```json\n",
    "{definition}\n",
    "```\n",
    "\n",
    "Respond only with the JSON object.\n",
    "And the following user input:\n",
    "\"\"\".strip()"
   ]
  },
  {
   "cell_type": "code",
   "execution_count": 228,
   "id": "29ee0dd6-d2b4-4bce-8f13-0ce4ecb1303e",
   "metadata": {
    "tags": []
   },
   "outputs": [],
   "source": [
    "# tool_prompt = \"\"\"\\\n",
    "# You are a function argument extractor. \n",
    "\n",
    "# Given the following function definition:\n",
    "# ```json\n",
    "# {schemas}\n",
    "# ```\n",
    "# \"\"\".strip()\n",
    "\n",
    "tools = Tools(\n",
    "    system_prompt=tool_prompt,\n",
    "    model=BedrockChat(),\n",
    "    tools=[\n",
    "        (clear_user_input, 'continue'),\n",
    "        (add, 'continue')\n",
    "    ]\n",
    ")"
   ]
  },
  {
   "cell_type": "code",
   "execution_count": 229,
   "id": "0fd68afe-80da-4ec9-b438-34c3c5553b18",
   "metadata": {
    "tags": []
   },
   "outputs": [
    {
     "data": {
      "text/plain": [
       "{'clear_user_input': {'definition': {'name': 'clear_user_input',\n",
       "   'description': 'Clear user input',\n",
       "   'parameters': {'type': 'object',\n",
       "    'properties': {'shared': {'type': 'object'}, 'kwargs': {'type': 'string'}},\n",
       "    'required': ['shared', 'kwargs']}},\n",
       "  'tool': <function __main__.clear_user_input(shared: dict, **kwargs)>,\n",
       "  'action': 'continue'},\n",
       " 'add': {'definition': {'name': 'add',\n",
       "   'description': 'Add two numbers together',\n",
       "   'parameters': {'type': 'object',\n",
       "    'properties': {'a': {'type': 'integer'},\n",
       "     'b': {'type': 'integer'},\n",
       "     'kwargs': {'type': 'string'}},\n",
       "    'required': ['a', 'b', 'kwargs']}},\n",
       "  'tool': <function __main__.add(a: int, b: int, **kwargs)>,\n",
       "  'action': 'continue'}}"
      ]
     },
     "execution_count": 229,
     "metadata": {},
     "output_type": "execute_result"
    }
   ],
   "source": [
    "tools.tools"
   ]
  },
  {
   "cell_type": "code",
   "execution_count": 230,
   "id": "722ea75b-c620-4d32-accb-b12751b09ed2",
   "metadata": {
    "tags": []
   },
   "outputs": [],
   "source": [
    "# shared = {\n",
    "#     \"user_input\": \"What is the result of 1 plus 1?\",\n",
    "#     \"tool\": \"add\"\n",
    "# }\n",
    "\n",
    "shared = {\n",
    "    \"user_input\": \"Clear user input for me\",\n",
    "    \"tool\": \"clear_user_input\"\n",
    "}"
   ]
  },
  {
   "cell_type": "code",
   "execution_count": 231,
   "id": "de5ba13b-6c3b-4dc2-aceb-785aebd890d6",
   "metadata": {
    "tags": []
   },
   "outputs": [
    {
     "data": {
      "text/plain": [
       "{'definition': {'name': 'clear_user_input',\n",
       "  'description': 'Clear user input',\n",
       "  'parameters': {'type': 'object',\n",
       "   'properties': {'shared': {'type': 'object'}, 'kwargs': {'type': 'string'}},\n",
       "   'required': ['shared', 'kwargs']}},\n",
       " 'tool': <function __main__.clear_user_input(shared: dict, **kwargs)>,\n",
       " 'action': 'continue'}"
      ]
     },
     "execution_count": 231,
     "metadata": {},
     "output_type": "execute_result"
    }
   ],
   "source": [
    "tools.tools['clear_user_input']"
   ]
  },
  {
   "cell_type": "code",
   "execution_count": 232,
   "id": "2f20fbd1-9622-4e55-8083-57ed9e1b68f3",
   "metadata": {
    "tags": []
   },
   "outputs": [],
   "source": [
    "response = tools.run(shared)"
   ]
  },
  {
   "cell_type": "code",
   "execution_count": 233,
   "id": "df36edcc-8937-4f0f-9973-2e9d839630c1",
   "metadata": {
    "tags": []
   },
   "outputs": [
    {
     "data": {
      "text/plain": [
       "dict"
      ]
     },
     "execution_count": 233,
     "metadata": {},
     "output_type": "execute_result"
    }
   ],
   "source": [
    "type(response)"
   ]
  },
  {
   "cell_type": "code",
   "execution_count": 234,
   "id": "ed13fe3d-2b5d-42db-8163-38fa36b63700",
   "metadata": {
    "tags": []
   },
   "outputs": [
    {
     "name": "stdout",
     "output_type": "stream",
     "text": [
      "{'shared': {'user_input': '', 'tool': 'clear_user_input', 'params': {...}, 'tool_res': {...}, 'action': 'continue'}, 'kwargs': 'Clear user input for me'}\n"
     ]
    }
   ],
   "source": [
    "print(response['params'])"
   ]
  },
  {
   "cell_type": "code",
   "execution_count": 235,
   "id": "fe147f43-b394-44e5-9a9a-fe00429232bc",
   "metadata": {
    "tags": []
   },
   "outputs": [
    {
     "data": {
      "text/plain": [
       "dict"
      ]
     },
     "execution_count": 235,
     "metadata": {},
     "output_type": "execute_result"
    }
   ],
   "source": [
    "type(response['params'])"
   ]
  },
  {
   "cell_type": "code",
   "execution_count": 236,
   "id": "35d337b5-263d-4df4-9fcc-dc3542f45544",
   "metadata": {
    "tags": []
   },
   "outputs": [
    {
     "data": {
      "text/plain": [
       "{'user_input': '',\n",
       " 'tool': 'clear_user_input',\n",
       " 'params': {'shared': {...}, 'kwargs': 'Clear user input for me'},\n",
       " 'tool_res': {...},\n",
       " 'action': 'continue'}"
      ]
     },
     "execution_count": 236,
     "metadata": {},
     "output_type": "execute_result"
    }
   ],
   "source": [
    "response['tool_res']"
   ]
  },
  {
   "cell_type": "code",
   "execution_count": 237,
   "id": "321222c6-4da8-497c-858e-e325a6e51822",
   "metadata": {
    "tags": []
   },
   "outputs": [
    {
     "data": {
      "text/plain": [
       "''"
      ]
     },
     "execution_count": 237,
     "metadata": {},
     "output_type": "execute_result"
    }
   ],
   "source": [
    "response['user_input']"
   ]
  },
  {
   "cell_type": "code",
   "execution_count": null,
   "id": "348c24a6-cebc-455c-8cad-a976f014a8f5",
   "metadata": {},
   "outputs": [],
   "source": []
  }
 ],
 "metadata": {
  "kernelspec": {
   "display_name": "conda_python3",
   "language": "python",
   "name": "conda_python3"
  },
  "language_info": {
   "codemirror_mode": {
    "name": "ipython",
    "version": 3
   },
   "file_extension": ".py",
   "mimetype": "text/x-python",
   "name": "python",
   "nbconvert_exporter": "python",
   "pygments_lexer": "ipython3",
   "version": "3.10.18"
  }
 },
 "nbformat": 4,
 "nbformat_minor": 5
}
