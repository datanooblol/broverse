{
 "cells": [
  {
   "cell_type": "code",
   "execution_count": 1,
   "id": "93594462",
   "metadata": {},
   "outputs": [],
   "source": [
    "%load_ext autoreload\n",
    "%autoreload 2"
   ]
  },
  {
   "cell_type": "code",
   "execution_count": 2,
   "id": "dffbbc8a-97bd-43bb-b5e8-e976b4792e89",
   "metadata": {
    "tags": []
   },
   "outputs": [],
   "source": [
    "from broverse import Action, Flow, End"
   ]
  },
  {
   "cell_type": "code",
   "execution_count": 3,
   "id": "4ca94e0f-6b79-49b5-bb47-18f62e159269",
   "metadata": {
    "tags": []
   },
   "outputs": [],
   "source": [
    "from broverse.bedrock import BedrockChat"
   ]
  },
  {
   "cell_type": "code",
   "execution_count": 354,
   "id": "e3efdd85",
   "metadata": {},
   "outputs": [],
   "source": [
    "import json\n",
    "import yaml"
   ]
  },
  {
   "cell_type": "code",
   "execution_count": 119,
   "id": "ad2d0a52-fcab-41e8-a660-4a9b57509259",
   "metadata": {
    "tags": []
   },
   "outputs": [],
   "source": [
    "class Start(Action):\n",
    "    def __init__(self, message, next_action):\n",
    "        super().__init__()\n",
    "        self.message = message\n",
    "        self.next_action = next_action\n",
    "        \n",
    "    def run(self, shared):\n",
    "        print(self.message)\n",
    "        shared['action'] = self.next_action\n",
    "        return shared"
   ]
  },
  {
   "cell_type": "code",
   "execution_count": 398,
   "id": "59ef7ebe-7921-4d49-a5cd-fc2031bce12e",
   "metadata": {
    "tags": []
   },
   "outputs": [],
   "source": [
    "class Input(Action):\n",
    "    def run(self, shared):\n",
    "        user_input = input(\"You:\")\n",
    "        shared['user_input'] = user_input\n",
    "        shared['action'] = 'continue'\n",
    "        return shared\n",
    "    \n",
    "class SystemCommand(Action):\n",
    "    def __init__(self, ):\n",
    "        super().__init__()\n",
    "        self.commands = [\n",
    "            f\"/{command}\"\n",
    "            for command\n",
    "            in [\"clear_user_input\", \"exit\", \"list\"]\n",
    "        ]\n",
    "    def get_slash_command(self, user_input:str):\n",
    "        if user_input.startswith('/clear_user_input'):\n",
    "            return 'clear_user_input'\n",
    "        if user_input.startswith('/exit'):\n",
    "            return 'end'\n",
    "        if user_input.startswith('/list'):\n",
    "            print(\"Available commands are:\")\n",
    "            for command in self.commands:\n",
    "                print(f\"\\t- {command}\")\n",
    "            return 'continue'\n",
    "        return 'continue'\n",
    "    \n",
    "    def run(self, shared):\n",
    "        user_input = shared.get('user_input', 'no input')\n",
    "        action = self.get_slash_command(user_input)\n",
    "        if action == 'end':\n",
    "            shared['action'] = 'end'\n",
    "        elif action != 'continue':\n",
    "            shared['tool'] = action\n",
    "            shared['action'] = 'system_command'\n",
    "        else:\n",
    "            shared['action'] = 'continue'\n",
    "        return shared\n",
    "\n",
    "class ToolSelector(Action):\n",
    "    def __init__(self, system_prompt:str, model:BedrockChat, tools:dict):\n",
    "        super().__init__()\n",
    "        self.system_prompt = system_prompt\n",
    "        self.model = model\n",
    "        self.tools = tools\n",
    "\n",
    "    def format_tools_for_selector(self):\n",
    "        \"\"\"Extract only tool name and description for ToolSelector\"\"\"\n",
    "        formatted = []\n",
    "        for name, tool_info in self.tools.items():\n",
    "            description = tool_info['definition']['description']\n",
    "            formatted.append(f\"{name}: {description}\")\n",
    "        return formatted\n",
    "    \n",
    "    def convert_tool_str_to_dict(self, tool, codeblock='json'):\n",
    "        tool = tool.split(\"```\"+codeblock)\n",
    "        if len(tool)>1:\n",
    "            tool = tool[1]\n",
    "        else:\n",
    "            tool = tool[-1]\n",
    "        tool = tool.split(\"```\")[0].strip()\n",
    "        print(tool)\n",
    "        if codeblock=='json':\n",
    "            return json.loads(tool)\n",
    "        return yaml.safe_load(tool)\n",
    "    \n",
    "    def run(self, shared):\n",
    "        user_input = shared.get(\"user_input\", \"\")\n",
    "        tool_list = self.format_tools_for_selector()\n",
    "        tool_list = \"\\t- \".join(tool_list)\n",
    "        prompt = f\"USER_INPUT: \\n\\n{user_input}\\n\\n\"\n",
    "        tool = self.model.run(\n",
    "            system_prompt=self.system_prompt.format(tools=tool_list),\n",
    "            messages=[self.model.UserMessage(text=prompt)]\n",
    "        )\n",
    "        # print(tool)\n",
    "        tool = self.convert_tool_str_to_dict(tool, codeblock='yaml').get('tool', None)\n",
    "        shared['tool'] = tool\n",
    "        shared['action'] = 'tool calling' if tool in self.tools else None\n",
    "        \n",
    "        return shared"
   ]
  },
  {
   "cell_type": "code",
   "execution_count": null,
   "id": "f87783f1",
   "metadata": {},
   "outputs": [],
   "source": []
  },
  {
   "cell_type": "code",
   "execution_count": 424,
   "id": "c43db1ed-460c-4705-833a-d0ad00184191",
   "metadata": {
    "tags": []
   },
   "outputs": [],
   "source": [
    "import inspect\n",
    "import typing\n",
    "from typing import get_type_hints\n",
    "import json\n",
    "\n",
    "class Tools(Action):\n",
    "    def __init__(self, system_prompt:str, model:BedrockChat, tools:list):\n",
    "        super().__init__()\n",
    "        self.system_prompt = system_prompt\n",
    "        self.model = model\n",
    "        self.tools = self.register_tools(tools)\n",
    "\n",
    "    def convert_to_tool(self, func)->dict:\n",
    "        sig = inspect.signature(func)\n",
    "        type_hints = get_type_hints(func)\n",
    "\n",
    "        parameters = {\n",
    "            \"type\": \"object\",\n",
    "            \"properties\": {},\n",
    "            \"required\": []\n",
    "        }\n",
    "\n",
    "        for name, param in sig.parameters.items():\n",
    "            param_type = type_hints.get(name, str)\n",
    "            param_schema = {\"type\": self.python_type_to_json_type(param_type)}\n",
    "            parameters[\"properties\"][name] = param_schema\n",
    "            if param.default is param.empty:\n",
    "                parameters[\"required\"].append(name)\n",
    "\n",
    "        tool = {\n",
    "            \"name\": func.__name__,\n",
    "            \"description\": func.__doc__ or \"\",\n",
    "            \"parameters\": parameters\n",
    "        }\n",
    "\n",
    "        return tool\n",
    "\n",
    "\n",
    "    def python_type_to_json_type(self, py_type):\n",
    "        origin = typing.get_origin(py_type) or py_type\n",
    "\n",
    "        if origin in [int]:\n",
    "            return \"integer\"\n",
    "        elif origin in [float]:\n",
    "            return \"number\"\n",
    "        elif origin in [bool]:\n",
    "            return \"boolean\"\n",
    "        elif origin in [str]:\n",
    "            return \"string\"\n",
    "        elif origin in [list, tuple]:\n",
    "            return \"array\"\n",
    "        elif origin in [dict]:\n",
    "            return \"object\"\n",
    "        else:\n",
    "            return \"string\"  # fallback\n",
    "        \n",
    "    def get_params(self, tool):\n",
    "        return self.convert_to_tool(tool)\n",
    "        \n",
    "    def register_tools(self, tools):\n",
    "        _tools = {}\n",
    "        for tool, action in tools:\n",
    "            tool_definition = self.get_params(tool)\n",
    "            name = tool_definition.get(\"name\", None)\n",
    "            _tools[name] = {\n",
    "                \"definition\": tool_definition,\n",
    "                \"tool\": tool,\n",
    "                \"action\": action\n",
    "            }\n",
    "        return _tools\n",
    "\n",
    "    def parse_str_to_json(self, params):\n",
    "        params = params.split(\"```json\")\n",
    "        if len(params)>1:\n",
    "            params = params[1]\n",
    "        else:\n",
    "            params = params[0]\n",
    "        params = params.split(\"```\")[0]\n",
    "        return json.loads(params)\n",
    "        \n",
    "    def run(self, shared):\n",
    "        user_input = shared.get('user_input', 'no input')\n",
    "        tool_name = shared.get('tool', 'no tool')\n",
    "        tool = self.tools.get(tool_name, {})\n",
    "        definition = tool.get('definition', None)\n",
    "        action = tool.get('action', None)\n",
    "        tool = tool.get('tool', None)\n",
    "        prompt = f\"USER_INPUT: \\n\\n{user_input}\\n\\n\"\n",
    "        params = self.model.run(\n",
    "            system_prompt=self.system_prompt.format(definition=json.dumps(definition)), \n",
    "            messages=[self.model.UserMessage(text=prompt)]\n",
    "            )\n",
    "        params = self.parse_str_to_json(params)\n",
    "        if \"shared\" in params:\n",
    "            params.pop(\"shared\")\n",
    "        response = tool(shared=shared, **params)\n",
    "        shared['tool_res'] = response\n",
    "        shared['action'] = action\n",
    "        return shared\n",
    "\n",
    "def add(a:int, b:int, **kwargs):\n",
    "    \"\"\"This function can add two numbers together\"\"\"\n",
    "    result = a+b\n",
    "    print(f\"a+b is: {a}+{b}={result}\")\n",
    "    return result\n",
    "\n",
    "def clear_user_input(shared:dict, **kwargs):\n",
    "    \"\"\"Clear user input\"\"\"\n",
    "    shared['user_input'] = ''\n",
    "    print(\"user_input is cleared\")\n",
    "    return None"
   ]
  },
  {
   "cell_type": "code",
   "execution_count": 425,
   "id": "60d35816",
   "metadata": {},
   "outputs": [],
   "source": [
    "# tool_selector_prompt = \"\"\"\\\n",
    "# You are a tool selection expert.\n",
    "\n",
    "# Your job is to analyze the USER_INPUT and select the single best matching tool from TOOLS.\n",
    "# If you can't find the best matching tool, return null.\n",
    "# TOOLS:\n",
    "# {tools}\n",
    "\n",
    "# Return only the tool name, nothing else, in JSON codeblock with a specified JSON format:\n",
    "# ```json\n",
    "# {{\"tool\": \"tool name\"}}\n",
    "# ```\n",
    "\n",
    "# Examples:\n",
    "# USER_INPUT: \"add 5 and 3\"\n",
    "# OUTPUT: \n",
    "# ```json\n",
    "# {{\"tool\": \"add\"}}\n",
    "# ```\n",
    "\n",
    "# USER_INPUT: \"clear my input\"\n",
    "# OUTPUT:\n",
    "# ```json\n",
    "# {{\"tool\": \"clear_user_input\"}}\n",
    "# ```\n",
    "\n",
    "# USER_INPUT: \"do something and the do something is not in TOOLS\"\n",
    "# OUTPUT:\n",
    "# ```json\n",
    "# {{\"tool\": null}}\n",
    "# ```\n",
    "# \"\"\"\n"
   ]
  },
  {
   "cell_type": "code",
   "execution_count": 426,
   "id": "47cb8e83",
   "metadata": {},
   "outputs": [],
   "source": [
    "tool_selector_prompt = \"\"\"\\\n",
    "You are a tool selection expert.\n",
    "\n",
    "Your job is to analyze the USER_INPUT and select the single best matching tool from TOOLS.\n",
    "If you can't find the best matching tool, return null.\n",
    "TOOLS:\n",
    "{tools}\n",
    "\n",
    "Return only the tool name, nothing else, in YAML codeblock with a specified YAML format:\n",
    "```yaml\n",
    "tool: tool name\n",
    "```\n",
    "\n",
    "Examples:\n",
    "USER_INPUT: \"add 5 and 3\"\n",
    "OUTPUT: \n",
    "```yaml\n",
    "tool: add\n",
    "```\n",
    "\n",
    "USER_INPUT: \"clear my input\"\n",
    "OUTPUT:\n",
    "```yaml\n",
    "tool: clear_user_input\n",
    "```\n",
    "\n",
    "USER_INPUT: \"do something and the do something is not in TOOLS\"\n",
    "OUTPUT:\n",
    "```yaml\n",
    "tool: null\n",
    "```\n",
    "\"\"\"\n"
   ]
  },
  {
   "cell_type": "code",
   "execution_count": 427,
   "id": "5cf7e763",
   "metadata": {},
   "outputs": [
    {
     "data": {
      "text/plain": [
       "{'tool': None}"
      ]
     },
     "execution_count": 427,
     "metadata": {},
     "output_type": "execute_result"
    }
   ],
   "source": [
    "import yaml\n",
    "yaml_str = \"\"\"\n",
    "tool: null\n",
    "\"\"\".strip()\n",
    "yaml.safe_load(yaml_str)"
   ]
  },
  {
   "cell_type": "code",
   "execution_count": 428,
   "id": "4bbb1ba2",
   "metadata": {},
   "outputs": [
    {
     "data": {
      "text/plain": [
       "'You are a tool selection expert.\\n\\nYour job is to analyze the USER_INPUT and select the single best matching tool from TOOLS.\\nIf you can\\'t find the best matching tool, return null.\\nTOOLS:\\nTest\\n\\nReturn only the tool name, nothing else, in YAML codeblock with a specified YAML format:\\n```yaml\\ntool: tool name\\n```\\n\\nExamples:\\nUSER_INPUT: \"add 5 and 3\"\\nOUTPUT: \\n```yaml\\ntool: add\\n```\\n\\nUSER_INPUT: \"clear my input\"\\nOUTPUT:\\n```yaml\\ntool: clear_user_input\\n```\\n\\nUSER_INPUT: \"do something and the do something is not in TOOLS\"\\nOUTPUT:\\n```yaml\\ntool: null\\n```\\n'"
      ]
     },
     "execution_count": 428,
     "metadata": {},
     "output_type": "execute_result"
    }
   ],
   "source": [
    "tool_selector_prompt.format(tools=\"Test\")"
   ]
  },
  {
   "cell_type": "code",
   "execution_count": 429,
   "id": "c84dfd5e-4960-4a4c-a3db-91840ffc8ba3",
   "metadata": {
    "tags": []
   },
   "outputs": [],
   "source": [
    "tool_prompt = \"\"\"\\\n",
    "You are a function argument extractor. \n",
    "Extract USER_INPUT required to call the function. Return a JSON object that matches the parameters schema exactly. Only include the keys that are required.\n",
    "\n",
    "Given the following function definition:\n",
    "DEFINITION\n",
    "```json\n",
    "{definition}\n",
    "```\n",
    "\n",
    "Respond only with the JSON object.\n",
    "And the following user input:\n",
    "\"\"\".strip()"
   ]
  },
  {
   "cell_type": "code",
   "execution_count": 430,
   "id": "84d0901a",
   "metadata": {},
   "outputs": [
    {
     "data": {
      "text/plain": [
       "'{\"tool\": null}'"
      ]
     },
     "execution_count": 430,
     "metadata": {},
     "output_type": "execute_result"
    }
   ],
   "source": [
    "json.dumps({\"tool\":None})"
   ]
  },
  {
   "cell_type": "code",
   "execution_count": 431,
   "id": "29ee0dd6-d2b4-4bce-8f13-0ce4ecb1303e",
   "metadata": {
    "tags": []
   },
   "outputs": [],
   "source": [
    "tools = Tools(\n",
    "    system_prompt=tool_prompt,\n",
    "    model=BedrockChat(),\n",
    "    tools=[\n",
    "        (clear_user_input, 'continue'),\n",
    "        (add, 'continue')\n",
    "    ]\n",
    ")\n",
    "\n",
    "tool_selector_action = ToolSelector(\n",
    "    system_prompt=tool_selector_prompt,\n",
    "    model=BedrockChat(),\n",
    "    tools=tools.tools\n",
    ")"
   ]
  },
  {
   "cell_type": "code",
   "execution_count": 432,
   "id": "40679781",
   "metadata": {},
   "outputs": [],
   "source": [
    "start_action = Start(message=\"Start Flow\", next_action=\"input\")\n",
    "input_action = Input()\n",
    "system_command_action = SystemCommand()\n",
    "end_action = End(message=\"End Flow\")"
   ]
  },
  {
   "cell_type": "code",
   "execution_count": 433,
   "id": "1b7c63eb",
   "metadata": {},
   "outputs": [
    {
     "data": {
      "text/plain": [
       "<broverse.action.End at 0x1e58ba64d90>"
      ]
     },
     "execution_count": 433,
     "metadata": {},
     "output_type": "execute_result"
    }
   ],
   "source": [
    "start_action - \"input\" >> input_action\n",
    "input_action - \"continue\" >> system_command_action\n",
    "system_command_action - \"continue\" >> tool_selector_action\n",
    "tool_selector_action - \"tool calling\" >> tools\n",
    "system_command_action - \"system_command\" >> tools\n",
    "tools - \"continue\" >> input_action\n",
    "system_command_action - \"end\" >> end_action"
   ]
  },
  {
   "cell_type": "code",
   "execution_count": 434,
   "id": "a6b599e2",
   "metadata": {},
   "outputs": [],
   "source": [
    "flow = Flow(start_action=start_action)"
   ]
  },
  {
   "cell_type": "code",
   "execution_count": 436,
   "id": "55ec3679",
   "metadata": {},
   "outputs": [
    {
     "name": "stdout",
     "output_type": "stream",
     "text": [
      "Start Flow\n",
      "tool: add\n",
      "a+b is: 1+1=2\n",
      "tool: add\n",
      "a+b is: 1+1=2\n",
      "tool: add\n",
      "a+b is: 1+2=3\n",
      "tool: add\n",
      "a+b is: 1+1=2\n",
      "tool: add\n",
      "a+b is: 1+1=2\n",
      "tool: null\n"
     ]
    },
    {
     "data": {
      "text/plain": [
       "{'action': None, 'user_input': '', 'tool': None, 'tool_res': 2}"
      ]
     },
     "execution_count": 436,
     "metadata": {},
     "output_type": "execute_result"
    }
   ],
   "source": [
    "shared = {}\n",
    "flow.run(shared=shared)\n",
    "shared"
   ]
  },
  {
   "cell_type": "code",
   "execution_count": 437,
   "id": "c377bc46",
   "metadata": {},
   "outputs": [
    {
     "data": {
      "text/plain": [
       "{'action': None, 'user_input': '', 'tool': None, 'tool_res': 2}"
      ]
     },
     "execution_count": 437,
     "metadata": {},
     "output_type": "execute_result"
    }
   ],
   "source": [
    "shared"
   ]
  },
  {
   "cell_type": "code",
   "execution_count": 1,
   "id": "93e89b38",
   "metadata": {},
   "outputs": [],
   "source": [
    "import yaml\n",
    "with open(\"./examples/tool_calling/prompts/tool_selector.yaml\", \"r\") as f:\n",
    "    yaml_str = yaml.safe_load(f)"
   ]
  },
  {
   "cell_type": "code",
   "execution_count": 2,
   "id": "44ae55d8",
   "metadata": {},
   "outputs": [
    {
     "data": {
      "text/plain": [
       "{'persona': 'You are a tool selection expert.',\n",
       " 'instructions': ['Analyze the USER_INPUT and select the single best matching tool from TOOLS',\n",
       "  \"If you can't find the best matching tool, return null\"],\n",
       " 'tools_placeholder': '{tools}',\n",
       " 'structured_output': {'format': 'YAML codeblock',\n",
       "  'schema': '```yaml\\ntool: tool name\\n```\\n'},\n",
       " 'examples': [{'user_input': 'add 5 and 3',\n",
       "   'output': '```yaml\\ntool: add\\n```\\n'},\n",
       "  {'user_input': 'clear my input',\n",
       "   'output': '```yaml\\ntool: clear_user_input\\n```\\n'},\n",
       "  {'user_input': 'do something and the do something is not in TOOLS',\n",
       "   'output': '```yaml\\ntool: null\\n```'}]}"
      ]
     },
     "execution_count": 2,
     "metadata": {},
     "output_type": "execute_result"
    }
   ],
   "source": [
    "yaml_str"
   ]
  },
  {
   "cell_type": "code",
   "execution_count": 4,
   "id": "7f2a0239",
   "metadata": {},
   "outputs": [],
   "source": [
    "def convert_yaml_to_prompt(filepath):\n",
    "    with open(filepath, \"r\") as f:\n",
    "        data = yaml.safe_load(f)\n",
    "\n",
    "    prompt = []\n",
    "    for k, v in data.items():\n",
    "        _prompt = f\"{k.upper()}:\\n{v}\"\n",
    "        prompt.append(_prompt)\n",
    "    return prompt"
   ]
  },
  {
   "cell_type": "code",
   "execution_count": 1,
   "id": "b7bf5dce",
   "metadata": {},
   "outputs": [],
   "source": [
    "filepath = \"./examples/tool_calling/prompts/tool_selector.yaml\"\n",
    "# prompt = convert_yaml_to_prompt(filepath)\n",
    "# print(\"\\n\".join(prompt))"
   ]
  },
  {
   "cell_type": "code",
   "execution_count": 2,
   "id": "c0be65ae",
   "metadata": {},
   "outputs": [
    {
     "name": "stdout",
     "output_type": "stream",
     "text": [
      "persona: \"You are a tool selection expert.\"\n",
      "\n",
      "instructions:\n",
      "  - \"Analyze the USER_INPUT and select the single best matching tool from TOOLS\"\n",
      "  - \"If you can't find the best matching tool, return null\"\n",
      "\n",
      "tools_placeholder: {tools}\n",
      "\n",
      "structured_output:\n",
      "  format: \"YAML codeblock\"\n",
      "  schema: |\n",
      "    ```yaml\n",
      "    tool: tool name\n",
      "    ```\n",
      "\n",
      "examples:\n",
      "  - user_input: \"add 5 and 3\"\n",
      "    output: |\n",
      "      ```yaml\n",
      "      tool: add\n",
      "      ```\n",
      "  - user_input: \"clear my input\"\n",
      "    output: |\n",
      "      ```yaml\n",
      "      tool: clear_user_input\n",
      "      ```\n",
      "  - user_input: \"do something and the do something is not in TOOLS\"\n",
      "    output: |\n",
      "      ```yaml\n",
      "      tool: null\n",
      "      ```\n"
     ]
    }
   ],
   "source": [
    "with open(filepath, 'r') as f:\n",
    "    data = f.read()\n",
    "print(data)"
   ]
  },
  {
   "cell_type": "code",
   "execution_count": 5,
   "id": "1f54f880",
   "metadata": {},
   "outputs": [
    {
     "name": "stdout",
     "output_type": "stream",
     "text": [
      "persona: \"You are a tool selection expert.\"\n",
      "\n",
      "instructions:\n",
      "  - \"Analyze the USER_INPUT and select the single best matching tool from TOOLS\"\n",
      "  - \"If you can't find the best matching tool, return null\"\n",
      "\n",
      "tools_placeholder: \n",
      "\t- a: b\n",
      "\t- c:d\n",
      "\n",
      "structured_output:\n",
      "  format: \"YAML codeblock\"\n",
      "  schema: |\n",
      "    ```yaml\n",
      "    tool: tool name\n",
      "    ```\n",
      "\n",
      "examples:\n",
      "  - user_input: \"add 5 and 3\"\n",
      "    output: |\n",
      "      ```yaml\n",
      "      tool: add\n",
      "      ```\n",
      "  - user_input: \"clear my input\"\n",
      "    output: |\n",
      "      ```yaml\n",
      "      tool: clear_user_input\n",
      "      ```\n",
      "  - user_input: \"do something and the do something is not in TOOLS\"\n",
      "    output: |\n",
      "      ```yaml\n",
      "      tool: null\n",
      "      ```\n"
     ]
    }
   ],
   "source": [
    "print(data.format(tools=\"\"\"\\n\\t- a: b\\n\\t- c:d\"\"\"))"
   ]
  },
  {
   "cell_type": "code",
   "execution_count": 5,
   "id": "48ceebce",
   "metadata": {},
   "outputs": [],
   "source": [
    "from typing import Any, Dict\n",
    "from broverse import Action, Flow, Start, End\n",
    "\n",
    "class Test1(Action):\n",
    "    def run(self, shared):\n",
    "        return shared\n",
    "    \n",
    "class Test2(Action):\n",
    "    def run(self, shared):\n",
    "        return shared\n",
    "    \n",
    "t1 = Test1()\n",
    "t2 = Test2()\n",
    "start1 = Start(message='Start 1')\n",
    "end1 = End(message='End 1')\n",
    "\n",
    "# start1 >> t1\n",
    "# t1 >> t2\n",
    "# t2 >> end1\n",
    "start1 >> t1 >> t2 >> end1\n",
    "flow1 = Flow(start_action=start1, name='Start flow1')"
   ]
  },
  {
   "cell_type": "code",
   "execution_count": 6,
   "id": "dfa7cd8f",
   "metadata": {},
   "outputs": [
    {
     "name": "stdout",
     "output_type": "stream",
     "text": [
      "```mermaid\n",
      "flowchart TD\n",
      "    Start_flow1 -->|default| Test1\n",
      "    Test1 -->|default| Test2\n",
      "    Test2 -->|default| End\n",
      "```\n"
     ]
    }
   ],
   "source": [
    "print(flow1.to_mermaid())"
   ]
  },
  {
   "cell_type": "code",
   "execution_count": 7,
   "id": "2559e3d0",
   "metadata": {},
   "outputs": [],
   "source": [
    "class Test3(Action):\n",
    "    def run(self, shared):\n",
    "        return shared\n",
    "    \n",
    "class Test4(Action):\n",
    "    def run(self, shared):\n",
    "        return shared\n",
    "    \n",
    "t3 = Test3()\n",
    "t4 = Test4()\n",
    "start2 = Start(message='Start 2')\n",
    "end2 = End(message='End 2')\n",
    "\n",
    "start2 >> t3 >> t4 >> end2\n",
    "\n",
    "flow2 = Flow(start_action=start2, name='Start flow2')"
   ]
  },
  {
   "cell_type": "code",
   "execution_count": 8,
   "id": "329935d1",
   "metadata": {},
   "outputs": [
    {
     "data": {
      "text/plain": [
       "<broverse.action.End at 0x263c62bef10>"
      ]
     },
     "execution_count": 8,
     "metadata": {},
     "output_type": "execute_result"
    }
   ],
   "source": [
    "from typing import Any, Dict\n",
    "import random\n",
    "\n",
    "class Router(Action):\n",
    "    def validate_next_action(self, shared: Dict[str, Any]) -> str:\n",
    "        return random.choice(['flow1', 'flow2'])\n",
    "    \n",
    "    def run(self, shared):\n",
    "        return shared\n",
    "class Test5(Action):\n",
    "    def run(self, shared):\n",
    "        return shared\n",
    "\n",
    "t5 = Test5()\n",
    "router = Router()\n",
    "start_flow = Start(message=\"Start Flow\")\n",
    "end_flow = End(message=\"End Flow\")\n",
    "\n",
    "start_flow >> router\n",
    "router - \"flow1\" >> flow1\n",
    "router - \"flow2\" >> flow2\n",
    "flow1 >> flow2 >> t5 >> end_flow"
   ]
  },
  {
   "cell_type": "code",
   "execution_count": 9,
   "id": "ba382dfd",
   "metadata": {},
   "outputs": [],
   "source": [
    "master_flow = Flow(start_action=start_flow, name='master_flow')"
   ]
  },
  {
   "cell_type": "code",
   "execution_count": 10,
   "id": "29207438",
   "metadata": {},
   "outputs": [
    {
     "name": "stdout",
     "output_type": "stream",
     "text": [
      "```mermaid\n",
      "flowchart TD\n",
      "    master_flow -->|default| Router\n",
      "    Router -->|flow1| Start_flow1\n",
      "    Start_flow1 -->|default| Start_flow2\n",
      "    Start_flow2 -->|default| Test5\n",
      "    Test5 -->|default| End\n",
      "    Router -->|flow2| Start_flow2\n",
      "```\n"
     ]
    }
   ],
   "source": [
    "master_flow.save_mermaid('flowtoflow.md')\n",
    "chart = master_flow.to_mermaid()\n",
    "print(chart)"
   ]
  },
  {
   "cell_type": "code",
   "execution_count": 11,
   "id": "9c9697b9",
   "metadata": {},
   "outputs": [
    {
     "data": {
      "text/plain": [
       "{}"
      ]
     },
     "execution_count": 11,
     "metadata": {},
     "output_type": "execute_result"
    }
   ],
   "source": [
    "master_flow.successors"
   ]
  },
  {
   "cell_type": "code",
   "execution_count": 12,
   "id": "3cd117e9",
   "metadata": {},
   "outputs": [
    {
     "data": {
      "text/plain": [
       "{'default': <__main__.Router at 0x263c62be390>}"
      ]
     },
     "execution_count": 12,
     "metadata": {},
     "output_type": "execute_result"
    }
   ],
   "source": [
    "master_flow.start_action.successors"
   ]
  },
  {
   "cell_type": "code",
   "execution_count": 13,
   "id": "2afed16a",
   "metadata": {},
   "outputs": [
    {
     "name": "stdout",
     "output_type": "stream",
     "text": [
      "Start Flow\n",
      "Running action: Router\n",
      "Running action: Flow\n",
      "Start 1\n",
      "Running action: Test1\n",
      "Running action: Test2\n",
      "End 1\n",
      "Running action: Flow\n",
      "Start 2\n",
      "Running action: Test3\n",
      "Running action: Test4\n",
      "End 2\n",
      "Running action: Test5\n",
      "End Flow\n"
     ]
    },
    {
     "data": {
      "text/plain": [
       "'default'"
      ]
     },
     "execution_count": 13,
     "metadata": {},
     "output_type": "execute_result"
    }
   ],
   "source": [
    "master_flow.run({})"
   ]
  },
  {
   "cell_type": "code",
   "execution_count": 1,
   "id": "b5297972",
   "metadata": {},
   "outputs": [
    {
     "name": "stdout",
     "output_type": "stream",
     "text": [
      "Starting AI Agent\n",
      "Running async action: LLMCall\n",
      "Making LLM API call...\n",
      "Agent Complete\n"
     ]
    }
   ],
   "source": [
    "from broverse.action_async import AsyncAction, AsyncStart, AsyncEnd\n",
    "from broverse.flow_async import AsyncFlow, AsyncParallelFlow\n",
    "import asyncio\n",
    "\n",
    "class LLMCall(AsyncAction):\n",
    "    async def _run_async(self, shared):\n",
    "        print(\"Making LLM API call...\")\n",
    "        await asyncio.sleep(2)  # Simulate 2 second LLM call\n",
    "        shared['llm_response'] = \"Hello from AI!\"\n",
    "        return shared\n",
    "\n",
    "\n",
    "# Build flow\n",
    "start = AsyncStart(\"Starting AI Agent\")\n",
    "llm = LLMCall(max_retries=3, wait=1)\n",
    "end = AsyncEnd(\"Agent Complete\")\n",
    "\n",
    "start >> llm \n",
    "llm >> end\n",
    "flow = AsyncFlow(start)\n",
    "\n",
    "shared_state = {}\n",
    "# Run async\n",
    "result = await flow.run_async(shared_state)\n"
   ]
  },
  {
   "cell_type": "code",
   "execution_count": 1,
   "id": "65a95b93",
   "metadata": {},
   "outputs": [],
   "source": [
    "from broverse import state, Action, load_config"
   ]
  },
  {
   "cell_type": "code",
   "execution_count": 2,
   "id": "73aee14a",
   "metadata": {},
   "outputs": [],
   "source": [
    "class Test(Action):\n",
    "    def run(self, shared):\n",
    "        self.print(\"abc\")\n",
    "        return shared"
   ]
  },
  {
   "cell_type": "code",
   "execution_count": 4,
   "id": "c4f5998b",
   "metadata": {},
   "outputs": [
    {
     "data": {
      "text/plain": [
       "{'debug': False}"
      ]
     },
     "execution_count": 4,
     "metadata": {},
     "output_type": "execute_result"
    }
   ],
   "source": [
    "load_config('config.yaml')"
   ]
  },
  {
   "cell_type": "code",
   "execution_count": 5,
   "id": "b8c862b0",
   "metadata": {},
   "outputs": [
    {
     "data": {
      "text/plain": [
       "{}"
      ]
     },
     "execution_count": 5,
     "metadata": {},
     "output_type": "execute_result"
    }
   ],
   "source": [
    "Test().run({})"
   ]
  },
  {
   "cell_type": "code",
   "execution_count": 4,
   "id": "7dee0296",
   "metadata": {},
   "outputs": [],
   "source": [
    "state.set('debug', False)"
   ]
  },
  {
   "cell_type": "code",
   "execution_count": 8,
   "id": "5dc34e0a",
   "metadata": {},
   "outputs": [
    {
     "data": {
      "text/plain": [
       "True"
      ]
     },
     "execution_count": 8,
     "metadata": {},
     "output_type": "execute_result"
    }
   ],
   "source": [
    "state.get('debug')"
   ]
  },
  {
   "cell_type": "code",
   "execution_count": 7,
   "id": "9cf21ef8",
   "metadata": {},
   "outputs": [],
   "source": [
    "state.set('debug', True)"
   ]
  },
  {
   "cell_type": "code",
   "execution_count": null,
   "id": "7fe9c370",
   "metadata": {},
   "outputs": [],
   "source": []
  }
 ],
 "metadata": {
  "kernelspec": {
   "display_name": "broverse",
   "language": "python",
   "name": "python3"
  },
  "language_info": {
   "codemirror_mode": {
    "name": "ipython",
    "version": 3
   },
   "file_extension": ".py",
   "mimetype": "text/x-python",
   "name": "python",
   "nbconvert_exporter": "python",
   "pygments_lexer": "ipython3",
   "version": "3.11.11"
  }
 },
 "nbformat": 4,
 "nbformat_minor": 5
}
