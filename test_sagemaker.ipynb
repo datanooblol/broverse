{
 "cells": [
  {
   "cell_type": "code",
   "execution_count": 1,
   "id": "93594462",
   "metadata": {},
   "outputs": [],
   "source": [
    "%load_ext autoreload\n",
    "%autoreload 2"
   ]
  },
  {
   "cell_type": "code",
   "execution_count": 2,
   "id": "dffbbc8a-97bd-43bb-b5e8-e976b4792e89",
   "metadata": {
    "tags": []
   },
   "outputs": [],
   "source": [
    "from broverse import Action, Flow, End"
   ]
  },
  {
   "cell_type": "code",
   "execution_count": 3,
   "id": "4ca94e0f-6b79-49b5-bb47-18f62e159269",
   "metadata": {
    "tags": []
   },
   "outputs": [],
   "source": [
    "from broverse.bedrock import BedrockChat"
   ]
  },
  {
   "cell_type": "code",
   "execution_count": 354,
   "id": "e3efdd85",
   "metadata": {},
   "outputs": [],
   "source": [
    "import json\n",
    "import yaml"
   ]
  },
  {
   "cell_type": "code",
   "execution_count": 119,
   "id": "ad2d0a52-fcab-41e8-a660-4a9b57509259",
   "metadata": {
    "tags": []
   },
   "outputs": [],
   "source": [
    "class Start(Action):\n",
    "    def __init__(self, message, next_action):\n",
    "        super().__init__()\n",
    "        self.message = message\n",
    "        self.next_action = next_action\n",
    "        \n",
    "    def run(self, shared):\n",
    "        print(self.message)\n",
    "        shared['action'] = self.next_action\n",
    "        return shared"
   ]
  },
  {
   "cell_type": "code",
   "execution_count": 398,
   "id": "59ef7ebe-7921-4d49-a5cd-fc2031bce12e",
   "metadata": {
    "tags": []
   },
   "outputs": [],
   "source": [
    "class Input(Action):\n",
    "    def run(self, shared):\n",
    "        user_input = input(\"You:\")\n",
    "        shared['user_input'] = user_input\n",
    "        shared['action'] = 'continue'\n",
    "        return shared\n",
    "    \n",
    "class SystemCommand(Action):\n",
    "    def __init__(self, ):\n",
    "        super().__init__()\n",
    "        self.commands = [\n",
    "            f\"/{command}\"\n",
    "            for command\n",
    "            in [\"clear_user_input\", \"exit\", \"list\"]\n",
    "        ]\n",
    "    def get_slash_command(self, user_input:str):\n",
    "        if user_input.startswith('/clear_user_input'):\n",
    "            return 'clear_user_input'\n",
    "        if user_input.startswith('/exit'):\n",
    "            return 'end'\n",
    "        if user_input.startswith('/list'):\n",
    "            print(\"Available commands are:\")\n",
    "            for command in self.commands:\n",
    "                print(f\"\\t- {command}\")\n",
    "            return 'continue'\n",
    "        return 'continue'\n",
    "    \n",
    "    def run(self, shared):\n",
    "        user_input = shared.get('user_input', 'no input')\n",
    "        action = self.get_slash_command(user_input)\n",
    "        if action == 'end':\n",
    "            shared['action'] = 'end'\n",
    "        elif action != 'continue':\n",
    "            shared['tool'] = action\n",
    "            shared['action'] = 'system_command'\n",
    "        else:\n",
    "            shared['action'] = 'continue'\n",
    "        return shared\n",
    "\n",
    "class ToolSelector(Action):\n",
    "    def __init__(self, system_prompt:str, model:BedrockChat, tools:dict):\n",
    "        super().__init__()\n",
    "        self.system_prompt = system_prompt\n",
    "        self.model = model\n",
    "        self.tools = tools\n",
    "\n",
    "    def format_tools_for_selector(self):\n",
    "        \"\"\"Extract only tool name and description for ToolSelector\"\"\"\n",
    "        formatted = []\n",
    "        for name, tool_info in self.tools.items():\n",
    "            description = tool_info['definition']['description']\n",
    "            formatted.append(f\"{name}: {description}\")\n",
    "        return formatted\n",
    "    \n",
    "    def convert_tool_str_to_dict(self, tool, codeblock='json'):\n",
    "        tool = tool.split(\"```\"+codeblock)\n",
    "        if len(tool)>1:\n",
    "            tool = tool[1]\n",
    "        else:\n",
    "            tool = tool[-1]\n",
    "        tool = tool.split(\"```\")[0].strip()\n",
    "        print(tool)\n",
    "        if codeblock=='json':\n",
    "            return json.loads(tool)\n",
    "        return yaml.safe_load(tool)\n",
    "    \n",
    "    def run(self, shared):\n",
    "        user_input = shared.get(\"user_input\", \"\")\n",
    "        tool_list = self.format_tools_for_selector()\n",
    "        tool_list = \"\\t- \".join(tool_list)\n",
    "        prompt = f\"USER_INPUT: \\n\\n{user_input}\\n\\n\"\n",
    "        tool = self.model.run(\n",
    "            system_prompt=self.system_prompt.format(tools=tool_list),\n",
    "            messages=[self.model.UserMessage(text=prompt)]\n",
    "        )\n",
    "        # print(tool)\n",
    "        tool = self.convert_tool_str_to_dict(tool, codeblock='yaml').get('tool', None)\n",
    "        shared['tool'] = tool\n",
    "        shared['action'] = 'tool calling' if tool in self.tools else None\n",
    "        \n",
    "        return shared"
   ]
  },
  {
   "cell_type": "code",
   "execution_count": null,
   "id": "f87783f1",
   "metadata": {},
   "outputs": [],
   "source": []
  },
  {
   "cell_type": "code",
   "execution_count": 424,
   "id": "c43db1ed-460c-4705-833a-d0ad00184191",
   "metadata": {
    "tags": []
   },
   "outputs": [],
   "source": [
    "import inspect\n",
    "import typing\n",
    "from typing import get_type_hints\n",
    "import json\n",
    "\n",
    "class Tools(Action):\n",
    "    def __init__(self, system_prompt:str, model:BedrockChat, tools:list):\n",
    "        super().__init__()\n",
    "        self.system_prompt = system_prompt\n",
    "        self.model = model\n",
    "        self.tools = self.register_tools(tools)\n",
    "\n",
    "    def convert_to_tool(self, func)->dict:\n",
    "        sig = inspect.signature(func)\n",
    "        type_hints = get_type_hints(func)\n",
    "\n",
    "        parameters = {\n",
    "            \"type\": \"object\",\n",
    "            \"properties\": {},\n",
    "            \"required\": []\n",
    "        }\n",
    "\n",
    "        for name, param in sig.parameters.items():\n",
    "            param_type = type_hints.get(name, str)\n",
    "            param_schema = {\"type\": self.python_type_to_json_type(param_type)}\n",
    "            parameters[\"properties\"][name] = param_schema\n",
    "            if param.default is param.empty:\n",
    "                parameters[\"required\"].append(name)\n",
    "\n",
    "        tool = {\n",
    "            \"name\": func.__name__,\n",
    "            \"description\": func.__doc__ or \"\",\n",
    "            \"parameters\": parameters\n",
    "        }\n",
    "\n",
    "        return tool\n",
    "\n",
    "\n",
    "    def python_type_to_json_type(self, py_type):\n",
    "        origin = typing.get_origin(py_type) or py_type\n",
    "\n",
    "        if origin in [int]:\n",
    "            return \"integer\"\n",
    "        elif origin in [float]:\n",
    "            return \"number\"\n",
    "        elif origin in [bool]:\n",
    "            return \"boolean\"\n",
    "        elif origin in [str]:\n",
    "            return \"string\"\n",
    "        elif origin in [list, tuple]:\n",
    "            return \"array\"\n",
    "        elif origin in [dict]:\n",
    "            return \"object\"\n",
    "        else:\n",
    "            return \"string\"  # fallback\n",
    "        \n",
    "    def get_params(self, tool):\n",
    "        return self.convert_to_tool(tool)\n",
    "        \n",
    "    def register_tools(self, tools):\n",
    "        _tools = {}\n",
    "        for tool, action in tools:\n",
    "            tool_definition = self.get_params(tool)\n",
    "            name = tool_definition.get(\"name\", None)\n",
    "            _tools[name] = {\n",
    "                \"definition\": tool_definition,\n",
    "                \"tool\": tool,\n",
    "                \"action\": action\n",
    "            }\n",
    "        return _tools\n",
    "\n",
    "    def parse_str_to_json(self, params):\n",
    "        params = params.split(\"```json\")\n",
    "        if len(params)>1:\n",
    "            params = params[1]\n",
    "        else:\n",
    "            params = params[0]\n",
    "        params = params.split(\"```\")[0]\n",
    "        return json.loads(params)\n",
    "        \n",
    "    def run(self, shared):\n",
    "        user_input = shared.get('user_input', 'no input')\n",
    "        tool_name = shared.get('tool', 'no tool')\n",
    "        tool = self.tools.get(tool_name, {})\n",
    "        definition = tool.get('definition', None)\n",
    "        action = tool.get('action', None)\n",
    "        tool = tool.get('tool', None)\n",
    "        prompt = f\"USER_INPUT: \\n\\n{user_input}\\n\\n\"\n",
    "        params = self.model.run(\n",
    "            system_prompt=self.system_prompt.format(definition=json.dumps(definition)), \n",
    "            messages=[self.model.UserMessage(text=prompt)]\n",
    "            )\n",
    "        params = self.parse_str_to_json(params)\n",
    "        if \"shared\" in params:\n",
    "            params.pop(\"shared\")\n",
    "        response = tool(shared=shared, **params)\n",
    "        shared['tool_res'] = response\n",
    "        shared['action'] = action\n",
    "        return shared\n",
    "\n",
    "def add(a:int, b:int, **kwargs):\n",
    "    \"\"\"This function can add two numbers together\"\"\"\n",
    "    result = a+b\n",
    "    print(f\"a+b is: {a}+{b}={result}\")\n",
    "    return result\n",
    "\n",
    "def clear_user_input(shared:dict, **kwargs):\n",
    "    \"\"\"Clear user input\"\"\"\n",
    "    shared['user_input'] = ''\n",
    "    print(\"user_input is cleared\")\n",
    "    return None"
   ]
  },
  {
   "cell_type": "code",
   "execution_count": 425,
   "id": "60d35816",
   "metadata": {},
   "outputs": [],
   "source": [
    "# tool_selector_prompt = \"\"\"\\\n",
    "# You are a tool selection expert.\n",
    "\n",
    "# Your job is to analyze the USER_INPUT and select the single best matching tool from TOOLS.\n",
    "# If you can't find the best matching tool, return null.\n",
    "# TOOLS:\n",
    "# {tools}\n",
    "\n",
    "# Return only the tool name, nothing else, in JSON codeblock with a specified JSON format:\n",
    "# ```json\n",
    "# {{\"tool\": \"tool name\"}}\n",
    "# ```\n",
    "\n",
    "# Examples:\n",
    "# USER_INPUT: \"add 5 and 3\"\n",
    "# OUTPUT: \n",
    "# ```json\n",
    "# {{\"tool\": \"add\"}}\n",
    "# ```\n",
    "\n",
    "# USER_INPUT: \"clear my input\"\n",
    "# OUTPUT:\n",
    "# ```json\n",
    "# {{\"tool\": \"clear_user_input\"}}\n",
    "# ```\n",
    "\n",
    "# USER_INPUT: \"do something and the do something is not in TOOLS\"\n",
    "# OUTPUT:\n",
    "# ```json\n",
    "# {{\"tool\": null}}\n",
    "# ```\n",
    "# \"\"\"\n"
   ]
  },
  {
   "cell_type": "code",
   "execution_count": 426,
   "id": "47cb8e83",
   "metadata": {},
   "outputs": [],
   "source": [
    "tool_selector_prompt = \"\"\"\\\n",
    "You are a tool selection expert.\n",
    "\n",
    "Your job is to analyze the USER_INPUT and select the single best matching tool from TOOLS.\n",
    "If you can't find the best matching tool, return null.\n",
    "TOOLS:\n",
    "{tools}\n",
    "\n",
    "Return only the tool name, nothing else, in YAML codeblock with a specified YAML format:\n",
    "```yaml\n",
    "tool: tool name\n",
    "```\n",
    "\n",
    "Examples:\n",
    "USER_INPUT: \"add 5 and 3\"\n",
    "OUTPUT: \n",
    "```yaml\n",
    "tool: add\n",
    "```\n",
    "\n",
    "USER_INPUT: \"clear my input\"\n",
    "OUTPUT:\n",
    "```yaml\n",
    "tool: clear_user_input\n",
    "```\n",
    "\n",
    "USER_INPUT: \"do something and the do something is not in TOOLS\"\n",
    "OUTPUT:\n",
    "```yaml\n",
    "tool: null\n",
    "```\n",
    "\"\"\"\n"
   ]
  },
  {
   "cell_type": "code",
   "execution_count": 427,
   "id": "5cf7e763",
   "metadata": {},
   "outputs": [
    {
     "data": {
      "text/plain": [
       "{'tool': None}"
      ]
     },
     "execution_count": 427,
     "metadata": {},
     "output_type": "execute_result"
    }
   ],
   "source": [
    "import yaml\n",
    "yaml_str = \"\"\"\n",
    "tool: null\n",
    "\"\"\".strip()\n",
    "yaml.safe_load(yaml_str)"
   ]
  },
  {
   "cell_type": "code",
   "execution_count": 428,
   "id": "4bbb1ba2",
   "metadata": {},
   "outputs": [
    {
     "data": {
      "text/plain": [
       "'You are a tool selection expert.\\n\\nYour job is to analyze the USER_INPUT and select the single best matching tool from TOOLS.\\nIf you can\\'t find the best matching tool, return null.\\nTOOLS:\\nTest\\n\\nReturn only the tool name, nothing else, in YAML codeblock with a specified YAML format:\\n```yaml\\ntool: tool name\\n```\\n\\nExamples:\\nUSER_INPUT: \"add 5 and 3\"\\nOUTPUT: \\n```yaml\\ntool: add\\n```\\n\\nUSER_INPUT: \"clear my input\"\\nOUTPUT:\\n```yaml\\ntool: clear_user_input\\n```\\n\\nUSER_INPUT: \"do something and the do something is not in TOOLS\"\\nOUTPUT:\\n```yaml\\ntool: null\\n```\\n'"
      ]
     },
     "execution_count": 428,
     "metadata": {},
     "output_type": "execute_result"
    }
   ],
   "source": [
    "tool_selector_prompt.format(tools=\"Test\")"
   ]
  },
  {
   "cell_type": "code",
   "execution_count": 429,
   "id": "c84dfd5e-4960-4a4c-a3db-91840ffc8ba3",
   "metadata": {
    "tags": []
   },
   "outputs": [],
   "source": [
    "tool_prompt = \"\"\"\\\n",
    "You are a function argument extractor. \n",
    "Extract USER_INPUT required to call the function. Return a JSON object that matches the parameters schema exactly. Only include the keys that are required.\n",
    "\n",
    "Given the following function definition:\n",
    "DEFINITION\n",
    "```json\n",
    "{definition}\n",
    "```\n",
    "\n",
    "Respond only with the JSON object.\n",
    "And the following user input:\n",
    "\"\"\".strip()"
   ]
  },
  {
   "cell_type": "code",
   "execution_count": 430,
   "id": "84d0901a",
   "metadata": {},
   "outputs": [
    {
     "data": {
      "text/plain": [
       "'{\"tool\": null}'"
      ]
     },
     "execution_count": 430,
     "metadata": {},
     "output_type": "execute_result"
    }
   ],
   "source": [
    "json.dumps({\"tool\":None})"
   ]
  },
  {
   "cell_type": "code",
   "execution_count": 431,
   "id": "29ee0dd6-d2b4-4bce-8f13-0ce4ecb1303e",
   "metadata": {
    "tags": []
   },
   "outputs": [],
   "source": [
    "tools = Tools(\n",
    "    system_prompt=tool_prompt,\n",
    "    model=BedrockChat(),\n",
    "    tools=[\n",
    "        (clear_user_input, 'continue'),\n",
    "        (add, 'continue')\n",
    "    ]\n",
    ")\n",
    "\n",
    "tool_selector_action = ToolSelector(\n",
    "    system_prompt=tool_selector_prompt,\n",
    "    model=BedrockChat(),\n",
    "    tools=tools.tools\n",
    ")"
   ]
  },
  {
   "cell_type": "code",
   "execution_count": 432,
   "id": "40679781",
   "metadata": {},
   "outputs": [],
   "source": [
    "start_action = Start(message=\"Start Flow\", next_action=\"input\")\n",
    "input_action = Input()\n",
    "system_command_action = SystemCommand()\n",
    "end_action = End(message=\"End Flow\")"
   ]
  },
  {
   "cell_type": "code",
   "execution_count": 433,
   "id": "1b7c63eb",
   "metadata": {},
   "outputs": [
    {
     "data": {
      "text/plain": [
       "<broverse.action.End at 0x1e58ba64d90>"
      ]
     },
     "execution_count": 433,
     "metadata": {},
     "output_type": "execute_result"
    }
   ],
   "source": [
    "start_action - \"input\" >> input_action\n",
    "input_action - \"continue\" >> system_command_action\n",
    "system_command_action - \"continue\" >> tool_selector_action\n",
    "tool_selector_action - \"tool calling\" >> tools\n",
    "system_command_action - \"system_command\" >> tools\n",
    "tools - \"continue\" >> input_action\n",
    "system_command_action - \"end\" >> end_action"
   ]
  },
  {
   "cell_type": "code",
   "execution_count": 434,
   "id": "a6b599e2",
   "metadata": {},
   "outputs": [],
   "source": [
    "flow = Flow(start_action=start_action)"
   ]
  },
  {
   "cell_type": "code",
   "execution_count": 436,
   "id": "55ec3679",
   "metadata": {},
   "outputs": [
    {
     "name": "stdout",
     "output_type": "stream",
     "text": [
      "Start Flow\n",
      "tool: add\n",
      "a+b is: 1+1=2\n",
      "tool: add\n",
      "a+b is: 1+1=2\n",
      "tool: add\n",
      "a+b is: 1+2=3\n",
      "tool: add\n",
      "a+b is: 1+1=2\n",
      "tool: add\n",
      "a+b is: 1+1=2\n",
      "tool: null\n"
     ]
    },
    {
     "data": {
      "text/plain": [
       "{'action': None, 'user_input': '', 'tool': None, 'tool_res': 2}"
      ]
     },
     "execution_count": 436,
     "metadata": {},
     "output_type": "execute_result"
    }
   ],
   "source": [
    "shared = {}\n",
    "flow.run(shared=shared)\n",
    "shared"
   ]
  },
  {
   "cell_type": "code",
   "execution_count": 437,
   "id": "c377bc46",
   "metadata": {},
   "outputs": [
    {
     "data": {
      "text/plain": [
       "{'action': None, 'user_input': '', 'tool': None, 'tool_res': 2}"
      ]
     },
     "execution_count": 437,
     "metadata": {},
     "output_type": "execute_result"
    }
   ],
   "source": [
    "shared"
   ]
  },
  {
   "cell_type": "code",
   "execution_count": 1,
   "id": "93e89b38",
   "metadata": {},
   "outputs": [],
   "source": [
    "import yaml\n",
    "with open(\"./examples/tool_calling/prompts/tool_selector.yaml\", \"r\") as f:\n",
    "    yaml_str = yaml.safe_load(f)"
   ]
  },
  {
   "cell_type": "code",
   "execution_count": 2,
   "id": "44ae55d8",
   "metadata": {},
   "outputs": [
    {
     "data": {
      "text/plain": [
       "{'persona': 'You are a tool selection expert.',\n",
       " 'instructions': ['Analyze the USER_INPUT and select the single best matching tool from TOOLS',\n",
       "  \"If you can't find the best matching tool, return null\"],\n",
       " 'tools_placeholder': '{tools}',\n",
       " 'structured_output': {'format': 'YAML codeblock',\n",
       "  'schema': '```yaml\\ntool: tool name\\n```\\n'},\n",
       " 'examples': [{'user_input': 'add 5 and 3',\n",
       "   'output': '```yaml\\ntool: add\\n```\\n'},\n",
       "  {'user_input': 'clear my input',\n",
       "   'output': '```yaml\\ntool: clear_user_input\\n```\\n'},\n",
       "  {'user_input': 'do something and the do something is not in TOOLS',\n",
       "   'output': '```yaml\\ntool: null\\n```'}]}"
      ]
     },
     "execution_count": 2,
     "metadata": {},
     "output_type": "execute_result"
    }
   ],
   "source": [
    "yaml_str"
   ]
  },
  {
   "cell_type": "code",
   "execution_count": 4,
   "id": "7f2a0239",
   "metadata": {},
   "outputs": [],
   "source": [
    "def convert_yaml_to_prompt(filepath):\n",
    "    with open(filepath, \"r\") as f:\n",
    "        data = yaml.safe_load(f)\n",
    "\n",
    "    prompt = []\n",
    "    for k, v in data.items():\n",
    "        _prompt = f\"{k.upper()}:\\n{v}\"\n",
    "        prompt.append(_prompt)\n",
    "    return prompt"
   ]
  },
  {
   "cell_type": "code",
   "execution_count": 1,
   "id": "b7bf5dce",
   "metadata": {},
   "outputs": [],
   "source": [
    "filepath = \"./examples/tool_calling/prompts/tool_selector.yaml\"\n",
    "# prompt = convert_yaml_to_prompt(filepath)\n",
    "# print(\"\\n\".join(prompt))"
   ]
  },
  {
   "cell_type": "code",
   "execution_count": 2,
   "id": "c0be65ae",
   "metadata": {},
   "outputs": [
    {
     "name": "stdout",
     "output_type": "stream",
     "text": [
      "persona: \"You are a tool selection expert.\"\n",
      "\n",
      "instructions:\n",
      "  - \"Analyze the USER_INPUT and select the single best matching tool from TOOLS\"\n",
      "  - \"If you can't find the best matching tool, return null\"\n",
      "\n",
      "tools_placeholder: {tools}\n",
      "\n",
      "structured_output:\n",
      "  format: \"YAML codeblock\"\n",
      "  schema: |\n",
      "    ```yaml\n",
      "    tool: tool name\n",
      "    ```\n",
      "\n",
      "examples:\n",
      "  - user_input: \"add 5 and 3\"\n",
      "    output: |\n",
      "      ```yaml\n",
      "      tool: add\n",
      "      ```\n",
      "  - user_input: \"clear my input\"\n",
      "    output: |\n",
      "      ```yaml\n",
      "      tool: clear_user_input\n",
      "      ```\n",
      "  - user_input: \"do something and the do something is not in TOOLS\"\n",
      "    output: |\n",
      "      ```yaml\n",
      "      tool: null\n",
      "      ```\n"
     ]
    }
   ],
   "source": [
    "with open(filepath, 'r') as f:\n",
    "    data = f.read()\n",
    "print(data)"
   ]
  },
  {
   "cell_type": "code",
   "execution_count": 5,
   "id": "1f54f880",
   "metadata": {},
   "outputs": [
    {
     "name": "stdout",
     "output_type": "stream",
     "text": [
      "persona: \"You are a tool selection expert.\"\n",
      "\n",
      "instructions:\n",
      "  - \"Analyze the USER_INPUT and select the single best matching tool from TOOLS\"\n",
      "  - \"If you can't find the best matching tool, return null\"\n",
      "\n",
      "tools_placeholder: \n",
      "\t- a: b\n",
      "\t- c:d\n",
      "\n",
      "structured_output:\n",
      "  format: \"YAML codeblock\"\n",
      "  schema: |\n",
      "    ```yaml\n",
      "    tool: tool name\n",
      "    ```\n",
      "\n",
      "examples:\n",
      "  - user_input: \"add 5 and 3\"\n",
      "    output: |\n",
      "      ```yaml\n",
      "      tool: add\n",
      "      ```\n",
      "  - user_input: \"clear my input\"\n",
      "    output: |\n",
      "      ```yaml\n",
      "      tool: clear_user_input\n",
      "      ```\n",
      "  - user_input: \"do something and the do something is not in TOOLS\"\n",
      "    output: |\n",
      "      ```yaml\n",
      "      tool: null\n",
      "      ```\n"
     ]
    }
   ],
   "source": [
    "print(data.format(tools=\"\"\"\\n\\t- a: b\\n\\t- c:d\"\"\"))"
   ]
  },
  {
   "cell_type": "code",
   "execution_count": 5,
   "id": "48ceebce",
   "metadata": {},
   "outputs": [],
   "source": [
    "from typing import Any, Dict\n",
    "from broverse import Action, Flow, Start, End\n",
    "\n",
    "class Test1(Action):\n",
    "    def run(self, shared):\n",
    "        return shared\n",
    "    \n",
    "class Test2(Action):\n",
    "    def run(self, shared):\n",
    "        return shared\n",
    "    \n",
    "t1 = Test1()\n",
    "t2 = Test2()\n",
    "start1 = Start(message='Start 1')\n",
    "end1 = End(message='End 1')\n",
    "\n",
    "# start1 >> t1\n",
    "# t1 >> t2\n",
    "# t2 >> end1\n",
    "start1 >> t1 >> t2 >> end1\n",
    "flow1 = Flow(start_action=start1, name='Start flow1')"
   ]
  },
  {
   "cell_type": "code",
   "execution_count": 6,
   "id": "dfa7cd8f",
   "metadata": {},
   "outputs": [
    {
     "name": "stdout",
     "output_type": "stream",
     "text": [
      "```mermaid\n",
      "flowchart TD\n",
      "    Start_flow1 -->|default| Test1\n",
      "    Test1 -->|default| Test2\n",
      "    Test2 -->|default| End\n",
      "```\n"
     ]
    }
   ],
   "source": [
    "print(flow1.to_mermaid())"
   ]
  },
  {
   "cell_type": "code",
   "execution_count": 7,
   "id": "2559e3d0",
   "metadata": {},
   "outputs": [],
   "source": [
    "class Test3(Action):\n",
    "    def run(self, shared):\n",
    "        return shared\n",
    "    \n",
    "class Test4(Action):\n",
    "    def run(self, shared):\n",
    "        return shared\n",
    "    \n",
    "t3 = Test3()\n",
    "t4 = Test4()\n",
    "start2 = Start(message='Start 2')\n",
    "end2 = End(message='End 2')\n",
    "\n",
    "start2 >> t3 >> t4 >> end2\n",
    "\n",
    "flow2 = Flow(start_action=start2, name='Start flow2')"
   ]
  },
  {
   "cell_type": "code",
   "execution_count": 8,
   "id": "329935d1",
   "metadata": {},
   "outputs": [
    {
     "data": {
      "text/plain": [
       "<broverse.action.End at 0x263c62bef10>"
      ]
     },
     "execution_count": 8,
     "metadata": {},
     "output_type": "execute_result"
    }
   ],
   "source": [
    "from typing import Any, Dict\n",
    "import random\n",
    "\n",
    "class Router(Action):\n",
    "    def validate_next_action(self, shared: Dict[str, Any]) -> str:\n",
    "        return random.choice(['flow1', 'flow2'])\n",
    "    \n",
    "    def run(self, shared):\n",
    "        return shared\n",
    "class Test5(Action):\n",
    "    def run(self, shared):\n",
    "        return shared\n",
    "\n",
    "t5 = Test5()\n",
    "router = Router()\n",
    "start_flow = Start(message=\"Start Flow\")\n",
    "end_flow = End(message=\"End Flow\")\n",
    "\n",
    "start_flow >> router\n",
    "router - \"flow1\" >> flow1\n",
    "router - \"flow2\" >> flow2\n",
    "flow1 >> flow2 >> t5 >> end_flow"
   ]
  },
  {
   "cell_type": "code",
   "execution_count": 9,
   "id": "ba382dfd",
   "metadata": {},
   "outputs": [],
   "source": [
    "master_flow = Flow(start_action=start_flow, name='master_flow')"
   ]
  },
  {
   "cell_type": "code",
   "execution_count": 10,
   "id": "29207438",
   "metadata": {},
   "outputs": [
    {
     "name": "stdout",
     "output_type": "stream",
     "text": [
      "```mermaid\n",
      "flowchart TD\n",
      "    master_flow -->|default| Router\n",
      "    Router -->|flow1| Start_flow1\n",
      "    Start_flow1 -->|default| Start_flow2\n",
      "    Start_flow2 -->|default| Test5\n",
      "    Test5 -->|default| End\n",
      "    Router -->|flow2| Start_flow2\n",
      "```\n"
     ]
    }
   ],
   "source": [
    "master_flow.save_mermaid('flowtoflow.md')\n",
    "chart = master_flow.to_mermaid()\n",
    "print(chart)"
   ]
  },
  {
   "cell_type": "code",
   "execution_count": 11,
   "id": "9c9697b9",
   "metadata": {},
   "outputs": [
    {
     "data": {
      "text/plain": [
       "{}"
      ]
     },
     "execution_count": 11,
     "metadata": {},
     "output_type": "execute_result"
    }
   ],
   "source": [
    "master_flow.successors"
   ]
  },
  {
   "cell_type": "code",
   "execution_count": 12,
   "id": "3cd117e9",
   "metadata": {},
   "outputs": [
    {
     "data": {
      "text/plain": [
       "{'default': <__main__.Router at 0x263c62be390>}"
      ]
     },
     "execution_count": 12,
     "metadata": {},
     "output_type": "execute_result"
    }
   ],
   "source": [
    "master_flow.start_action.successors"
   ]
  },
  {
   "cell_type": "code",
   "execution_count": 13,
   "id": "2afed16a",
   "metadata": {},
   "outputs": [
    {
     "name": "stdout",
     "output_type": "stream",
     "text": [
      "Start Flow\n",
      "Running action: Router\n",
      "Running action: Flow\n",
      "Start 1\n",
      "Running action: Test1\n",
      "Running action: Test2\n",
      "End 1\n",
      "Running action: Flow\n",
      "Start 2\n",
      "Running action: Test3\n",
      "Running action: Test4\n",
      "End 2\n",
      "Running action: Test5\n",
      "End Flow\n"
     ]
    },
    {
     "data": {
      "text/plain": [
       "'default'"
      ]
     },
     "execution_count": 13,
     "metadata": {},
     "output_type": "execute_result"
    }
   ],
   "source": [
    "master_flow.run({})"
   ]
  },
  {
   "cell_type": "code",
   "execution_count": 1,
   "id": "b5297972",
   "metadata": {},
   "outputs": [
    {
     "name": "stdout",
     "output_type": "stream",
     "text": [
      "Starting AI Agent\n",
      "Running async action: LLMCall\n",
      "Making LLM API call...\n",
      "Agent Complete\n"
     ]
    }
   ],
   "source": [
    "from broverse.action_async import AsyncAction, AsyncStart, AsyncEnd\n",
    "from broverse.flow_async import AsyncFlow, AsyncParallelFlow\n",
    "import asyncio\n",
    "\n",
    "class LLMCall(AsyncAction):\n",
    "    async def _run_async(self, shared):\n",
    "        print(\"Making LLM API call...\")\n",
    "        await asyncio.sleep(2)  # Simulate 2 second LLM call\n",
    "        shared['llm_response'] = \"Hello from AI!\"\n",
    "        return shared\n",
    "\n",
    "\n",
    "# Build flow\n",
    "start = AsyncStart(\"Starting AI Agent\")\n",
    "llm = LLMCall(max_retries=3, wait=1)\n",
    "end = AsyncEnd(\"Agent Complete\")\n",
    "\n",
    "start >> llm \n",
    "llm >> end\n",
    "flow = AsyncFlow(start)\n",
    "\n",
    "shared_state = {}\n",
    "# Run async\n",
    "result = await flow.run_async(shared_state)\n"
   ]
  },
  {
   "cell_type": "code",
   "execution_count": 1,
   "id": "65a95b93",
   "metadata": {},
   "outputs": [],
   "source": [
    "from broverse import state, Action, load_config"
   ]
  },
  {
   "cell_type": "code",
   "execution_count": 2,
   "id": "73aee14a",
   "metadata": {},
   "outputs": [],
   "source": [
    "class Test(Action):\n",
    "    def run(self, shared):\n",
    "        self.print(\"abc\")\n",
    "        return shared"
   ]
  },
  {
   "cell_type": "code",
   "execution_count": 4,
   "id": "c4f5998b",
   "metadata": {},
   "outputs": [
    {
     "data": {
      "text/plain": [
       "{'debug': False}"
      ]
     },
     "execution_count": 4,
     "metadata": {},
     "output_type": "execute_result"
    }
   ],
   "source": [
    "load_config('config.yaml')"
   ]
  },
  {
   "cell_type": "code",
   "execution_count": 5,
   "id": "b8c862b0",
   "metadata": {},
   "outputs": [
    {
     "data": {
      "text/plain": [
       "{}"
      ]
     },
     "execution_count": 5,
     "metadata": {},
     "output_type": "execute_result"
    }
   ],
   "source": [
    "Test().run({})"
   ]
  },
  {
   "cell_type": "code",
   "execution_count": 4,
   "id": "7dee0296",
   "metadata": {},
   "outputs": [],
   "source": [
    "state.set('debug', False)"
   ]
  },
  {
   "cell_type": "code",
   "execution_count": 8,
   "id": "5dc34e0a",
   "metadata": {},
   "outputs": [
    {
     "data": {
      "text/plain": [
       "True"
      ]
     },
     "execution_count": 8,
     "metadata": {},
     "output_type": "execute_result"
    }
   ],
   "source": [
    "state.get('debug')"
   ]
  },
  {
   "cell_type": "code",
   "execution_count": 7,
   "id": "9cf21ef8",
   "metadata": {},
   "outputs": [],
   "source": [
    "state.set('debug', True)"
   ]
  },
  {
   "cell_type": "code",
   "execution_count": 1,
   "id": "7fe9c370",
   "metadata": {},
   "outputs": [],
   "source": [
    "from typing import Annotated"
   ]
  },
  {
   "cell_type": "code",
   "execution_count": 5,
   "id": "cb778f84",
   "metadata": {},
   "outputs": [],
   "source": [
    "def test(a:Annotated[int, \"a number\"]):\n",
    "    return a"
   ]
  },
  {
   "cell_type": "code",
   "execution_count": 6,
   "id": "a90f44f2",
   "metadata": {},
   "outputs": [
    {
     "data": {
      "text/plain": [
       "<function __main__.test(a: typing.Annotated[int, 'a number'])>"
      ]
     },
     "execution_count": 6,
     "metadata": {},
     "output_type": "execute_result"
    }
   ],
   "source": [
    "test"
   ]
  },
  {
   "cell_type": "code",
   "execution_count": null,
   "id": "d7eda170",
   "metadata": {},
   "outputs": [],
   "source": []
  },
  {
   "cell_type": "code",
   "execution_count": 26,
   "id": "37167429",
   "metadata": {},
   "outputs": [],
   "source": [
    "prompt = \"\"\"\\\n",
    "Select the best matching tool based on user's intent. \n",
    "\n",
    "Given the below tools, choose one best match:\n",
    "TOOLS:\n",
    "\n",
    "{tools}\n",
    "\"\"\".strip()"
   ]
  },
  {
   "cell_type": "code",
   "execution_count": 27,
   "id": "9d48bdba",
   "metadata": {},
   "outputs": [],
   "source": [
    "def register_tools(tools):\n",
    "    return {tool.__name__:tool.__doc__ for tool in tools}"
   ]
  },
  {
   "cell_type": "code",
   "execution_count": 28,
   "id": "c0cb4ed0",
   "metadata": {},
   "outputs": [
    {
     "data": {
      "text/plain": [
       "{'create_appointment': '\\n    <|start_summary|>\\n        Add or create an appointment\\n    <|end_summary|>\\n\\n    Args:\\n        event (str) : the name of event\\n        year (int) : the year of the event\\n        month (int) : the month of the event\\n        day (int) : the day of the event\\n\\n    Return:\\n        str\\n    '}"
      ]
     },
     "execution_count": 28,
     "metadata": {},
     "output_type": "execute_result"
    }
   ],
   "source": [
    "tool_obj = register_tools([create_appointment])\n",
    "tool_obj"
   ]
  },
  {
   "cell_type": "code",
   "execution_count": 29,
   "id": "e7e57efe",
   "metadata": {},
   "outputs": [
    {
     "name": "stdout",
     "output_type": "stream",
     "text": [
      "\t- create_appointment : \n",
      "    <|start_summary|>\n",
      "        Add or create an appointment\n",
      "    <|end_summary|>\n",
      "\n",
      "    Args:\n",
      "        event (str) : the name of event\n",
      "        year (int) : the year of the event\n",
      "        month (int) : the month of the event\n",
      "        day (int) : the day of the event\n",
      "\n",
      "    Return:\n",
      "        str\n",
      "    \n"
     ]
    }
   ],
   "source": [
    "print(\"\\n\".join([f\"\\t- {name} : {definition}\" for name, definition in tool_obj.items()]))"
   ]
  },
  {
   "cell_type": "code",
   "execution_count": 30,
   "id": "d12db325",
   "metadata": {},
   "outputs": [
    {
     "name": "stdout",
     "output_type": "stream",
     "text": [
      "Select the best matching tool based on user's intent. \n",
      "\n",
      "Given the below tools, choose one best match:\n",
      "TOOLS:\n",
      "\n",
      "\t- create_appointment : \n",
      "    <|start_summary|>\n",
      "        Add or create an appointment\n",
      "    <|end_summary|>\n",
      "\n",
      "    Args:\n",
      "        event (str) : the name of event\n",
      "        year (int) : the year of the event\n",
      "        month (int) : the month of the event\n",
      "        day (int) : the day of the event\n",
      "\n",
      "    Return:\n",
      "        str\n",
      "    \n"
     ]
    }
   ],
   "source": [
    "print(prompt.format(tools=\"\\n\".join([f\"\\t- {name} : {definition}\" for name, definition in tool_obj.items()])))"
   ]
  },
  {
   "cell_type": "code",
   "execution_count": 31,
   "id": "af79467e",
   "metadata": {},
   "outputs": [],
   "source": [
    "import re\n",
    "\n",
    "def extract_summary(text: str) -> str:\n",
    "    match = re.search(r'<\\|start\\|>(.*?)<\\|end\\|>', text, re.DOTALL)\n",
    "    return match.group(1).strip() if match else \"\""
   ]
  },
  {
   "cell_type": "code",
   "execution_count": 40,
   "id": "dce5cfa3",
   "metadata": {},
   "outputs": [],
   "source": [
    "def add(a:float, b:float)->float:\n",
    "    \"\"\"\n",
    "    <|start|>\n",
    "        Add two numbers together. \n",
    "        User may call `add` or `plus` or `+` to initialize this function\n",
    "    <|end|>\n",
    "    Args:\n",
    "        a (float) : an input number\n",
    "        b (float) : another input number\n",
    "    Return:\n",
    "        float : the result of a+b\n",
    "    \"\"\"\n",
    "    return a+b"
   ]
  },
  {
   "cell_type": "code",
   "execution_count": null,
   "id": "8e2d7116",
   "metadata": {},
   "outputs": [],
   "source": [
    "def extract_tools(funcs)->list[str]:\n",
    "    \"\"\"Use this function for ToolSelector\"\"\"\n",
    "    prompt = []\n",
    "    for func in funcs:\n",
    "        name = func.__name__\n",
    "        definition = func.__doc__.strip()\n",
    "        match = re.search(r'<\\|start\\|>(.*?)<\\|end\\|>', definition, re.DOTALL)\n",
    "        text = match.group(1).strip() if match else \"\"\n",
    "        text = re.sub(r'\\s+', ' ', text).strip()\n",
    "        prompt.append(f\"{name}: {text}\")\n",
    "    return prompt"
   ]
  },
  {
   "cell_type": "code",
   "execution_count": 42,
   "id": "c50d8b89",
   "metadata": {},
   "outputs": [
    {
     "data": {
      "text/plain": [
       "'add: Add two numbers together. User may call `add` or `plus` or `+` to initialize this function'"
      ]
     },
     "execution_count": 42,
     "metadata": {},
     "output_type": "execute_result"
    }
   ],
   "source": [
    "extract_tool(add)"
   ]
  },
  {
   "cell_type": "code",
   "execution_count": 47,
   "id": "5d0d118a",
   "metadata": {},
   "outputs": [],
   "source": [
    "import inspect\n",
    "import re\n",
    "\n",
    "def generate_extraction_prompt(func):\n",
    "    \"\"\"Generate a prompt to extract function parameters from user input.\"\"\"\n",
    "    sig = inspect.signature(func)\n",
    "    doc = inspect.getdoc(func) or \"\"\n",
    "    \n",
    "    # Extract description between <|start|> and <|end|>\n",
    "    desc_match = re.search(r'<\\|start\\|>(.*?)<\\|end\\|>', doc, re.DOTALL)\n",
    "    description = desc_match.group(1).strip() if desc_match else \"\"\n",
    "    description = re.sub(r'\\s+', ' ', description).strip()\n",
    "    \n",
    "    # Build parameter info\n",
    "    params = []\n",
    "    for name, param in sig.parameters.items():\n",
    "        param_type = param.annotation.__name__ if param.annotation != inspect.Parameter.empty else \"any\"\n",
    "        params.append(f\"- {name} ({param_type})\")\n",
    "    \n",
    "    # Build YAML template\n",
    "    yaml_template = \"\\n\".join(f\"{name}: <value>\" for name in sig.parameters.keys())\n",
    "    \n",
    "    prompt = f\"\"\"Extract parameters for the {func.__name__} function from user input and return them in YAML format.\n",
    "\n",
    "Function: {func.__name__}{sig}\n",
    "Description: {description}\n",
    "\n",
    "Parameters:\n",
    "{chr(10).join(params)}\n",
    "\n",
    "Return only the YAML format:\n",
    "```yaml\n",
    "{yaml_template}\n",
    "User input: {{user_input}}\"\"\"\n",
    "    return prompt"
   ]
  },
  {
   "cell_type": "code",
   "execution_count": 48,
   "id": "8793b004",
   "metadata": {},
   "outputs": [
    {
     "name": "stdout",
     "output_type": "stream",
     "text": [
      "Extract parameters for the add function from user input and return them in YAML format.\n",
      "\n",
      "Function: add(a: float, b: float) -> float\n",
      "Description: Add two numbers together. User may call `add` or `plus` or `+` to initialize this function\n",
      "\n",
      "Parameters:\n",
      "- a (float)\n",
      "- b (float)\n",
      "\n",
      "Return only the YAML format:\n",
      "```yaml\n",
      "a: <value>\n",
      "b: <value>\n",
      "User input: {user_input}\n"
     ]
    }
   ],
   "source": [
    "print(generate_extraction_prompt(add))"
   ]
  },
  {
   "cell_type": "code",
   "execution_count": 50,
   "id": "71dfbec0",
   "metadata": {},
   "outputs": [
    {
     "name": "stdout",
     "output_type": "stream",
     "text": [
      "Extract parameters for the add_multiple_numbers function from user input and return them in YAML format.\n",
      "\n",
      "Function: add_multiple_numbers(numbers: list) -> float\n",
      "Description: Add the list of numbers. User may use keywords like `add`, `plus`, `+`\n",
      "\n",
      "Parameters:\n",
      "- numbers (list)\n",
      "\n",
      "Return only the YAML format:\n",
      "```yaml\n",
      "numbers: <value>\n",
      "User input: {user_input}\n"
     ]
    }
   ],
   "source": [
    "def add_multiple_numbers(numbers:list)->float:\n",
    "    \"\"\"\n",
    "    <|start|>Add the list of numbers. User may use keywords like `add`, `plus`, `+`<|end|>\n",
    "    \"\"\"\n",
    "    return sum(numbers)\n",
    "print(generate_extraction_prompt(add_multiple_numbers))"
   ]
  },
  {
   "cell_type": "code",
   "execution_count": 2,
   "id": "a99875fd",
   "metadata": {},
   "outputs": [],
   "source": [
    "from broverse.tools import generate_extract_parameters_prompt, list_tools"
   ]
  },
  {
   "cell_type": "code",
   "execution_count": null,
   "id": "67ac5fc0",
   "metadata": {},
   "outputs": [],
   "source": [
    "def add_multiple_numbers(numbers:list[float])->float:\n",
    "    \"\"\"\n",
    "    <|start|>Add the list of numbers. User may use keywords like `add`, `plus`, `+`<|end|>\n",
    "    Args:\n",
    "        numbers (list) : a list of numbers\n",
    "    Return:\n",
    "        float : the result of sum(numbers)\n",
    "    \"\"\"\n",
    "    return sum(numbers)\n",
    "\n",
    "def add(a:float, b:float)->float:\n",
    "    \"\"\"\n",
    "    <|start|>\n",
    "        Add two numbers together. \n",
    "        User may call `add` or `plus` or `+` to initialize this function\n",
    "    <|end|>\n",
    "    Args:\n",
    "        a (float) : an input number\n",
    "        b (float) : another input number\n",
    "    Return:\n",
    "        float : the result of a+b\n",
    "    \"\"\"\n",
    "    return a+b\n",
    "\n",
    "def create_appointment(event:str, year:int, month:int, day:int):\n",
    "    \"\"\"\n",
    "    <|start|>\n",
    "        Add or create an appointment\n",
    "    <|end|>\n",
    "    \n",
    "    Args:\n",
    "        event (str) : the name of event\n",
    "        year (int) : the year of the event\n",
    "        month (int) : the month of the event\n",
    "        day (int) : the day of the event\n",
    "    \n",
    "    Return:\n",
    "        str\n",
    "    \"\"\"\n",
    "    return \"done\""
   ]
  },
  {
   "cell_type": "code",
   "execution_count": 21,
   "id": "3e891827",
   "metadata": {},
   "outputs": [],
   "source": [
    "prompt = \"\"\"\\\n",
    "Select the best matching tool based on user's intent. \n",
    "\n",
    "Given the below tools, choose one best match:\n",
    "TOOLS:\n",
    "\n",
    "{tools}\n",
    "\"\"\".strip()"
   ]
  },
  {
   "cell_type": "code",
   "execution_count": 22,
   "id": "d912787a",
   "metadata": {},
   "outputs": [],
   "source": [
    "tool_list = list_tools(funcs=[add, add_multiple_numbers, create_appointment])"
   ]
  },
  {
   "cell_type": "code",
   "execution_count": null,
   "id": "60144308",
   "metadata": {},
   "outputs": [
    {
     "name": "stdout",
     "output_type": "stream",
     "text": [
      "Select the best matching tool based on user's intent. \n",
      "\n",
      "Given the below tools, choose one best match:\n",
      "TOOLS:\n",
      "\n",
      "\t- add: Add two numbers together. User may call `add` or `plus` or `+` to initialize this function\n",
      "\t- add_multiple_numbers: Add the list of numbers. User may use keywords like `add`, `plus`, `+`\n",
      "\t- create_appointment: Add or create an appointment\n"
     ]
    }
   ],
   "source": [
    "print(prompt.format(tools=\"\\n\".join(tool_list)))"
   ]
  },
  {
   "cell_type": "code",
   "execution_count": 35,
   "id": "b4404c98",
   "metadata": {},
   "outputs": [
    {
     "name": "stdout",
     "output_type": "stream",
     "text": [
      "Extract parameters for the add function from user input and return them in YAML format.\n",
      "\n",
      "Function: add(a: float, b: float) -> float\n",
      "Description: Add two numbers together. User may call `add` or `plus` or `+` to initialize this function\n",
      "\n",
      "Parameters:\n",
      "- a (float)\n",
      "- b (float)\n",
      "\n",
      "Return only the YAML format:\n",
      "```yaml\n",
      "a: <value>\n",
      "b: <value>\n",
      "```\n",
      "User input: {user_input}\n"
     ]
    }
   ],
   "source": [
    "print(generate_extract_parameters_prompt(add))"
   ]
  },
  {
   "cell_type": "code",
   "execution_count": 33,
   "id": "6953f630",
   "metadata": {},
   "outputs": [
    {
     "name": "stdout",
     "output_type": "stream",
     "text": [
      "Extract parameters for the add_multiple_numbers function from user input and return them in YAML format.\n",
      "\n",
      "Function: add_multiple_numbers(numbers: list) -> float\n",
      "Description: Add the list of numbers. User may use keywords like `add`, `plus`, `+`\n",
      "\n",
      "Parameters:\n",
      "- numbers (list)\n",
      "\n",
      "Return only the YAML format:\n",
      "```yaml\n",
      "numbers: [<value>]\n",
      "```\n",
      "User input: {user_input}\n"
     ]
    }
   ],
   "source": [
    "print(generate_extract_parameters_prompt(add_multiple_numbers))"
   ]
  },
  {
   "cell_type": "code",
   "execution_count": 32,
   "id": "74d658c0",
   "metadata": {},
   "outputs": [],
   "source": [
    "import inspect\n",
    "import typing\n",
    "from typing import get_type_hints, Callable\n",
    "import re\n",
    "def generate_extract_parameters_prompt(func):\n",
    "    \"\"\"Generate a prompt to extract function parameters from user input.\"\"\"\n",
    "    sig = inspect.signature(func)\n",
    "    doc = inspect.getdoc(func) or \"\"\n",
    "    \n",
    "    # Extract description between <|start|> and <|end|>\n",
    "    desc_match = re.search(r'<\\|start\\|>(.*?)<\\|end\\|>', doc, re.DOTALL)\n",
    "    description = desc_match.group(1).strip() if desc_match else \"\"\n",
    "    description = re.sub(r'\\s+', ' ', description).strip()\n",
    "    \n",
    "    # Build parameter info\n",
    "    params = []\n",
    "    for name, param in sig.parameters.items():\n",
    "        param_type = param.annotation.__name__ if param.annotation != inspect.Parameter.empty else \"any\"\n",
    "        params.append(f\"- {name} ({param_type})\")\n",
    "    \n",
    "    # Build YAML template with proper formatting for lists\n",
    "    yaml_lines = []\n",
    "    for name, param in sig.parameters.items():\n",
    "        if param.annotation != inspect.Parameter.empty:\n",
    "            origin = typing.get_origin(param.annotation) or param.annotation\n",
    "            if origin in [list, tuple]:\n",
    "                yaml_lines.append(f\"{name}: [<value>]\")\n",
    "            else:\n",
    "                yaml_lines.append(f\"{name}: <value>\")\n",
    "        else:\n",
    "            yaml_lines.append(f\"{name}: <value>\")\n",
    "    \n",
    "    yaml_template = \"\\n\".join(yaml_lines)\n",
    "    \n",
    "    prompt = f\"\"\"Extract parameters for the {func.__name__} function from user input and return them in YAML format.\n",
    "\n",
    "Function: {func.__name__}{sig}\n",
    "Description: {description}\n",
    "\n",
    "Parameters:\n",
    "{chr(10).join(params)}\n",
    "\n",
    "Return only the YAML format:\n",
    "```yaml\n",
    "{yaml_template}\n",
    "```\n",
    "User input: {{user_input}}\"\"\"\n",
    "    return prompt"
   ]
  },
  {
   "cell_type": "code",
   "execution_count": 36,
   "id": "c5466c2a",
   "metadata": {},
   "outputs": [],
   "source": [
    "def validate_parameters(params_dict, func):\n",
    "    \"\"\"Validate extracted parameters against function signature\"\"\"\n",
    "    sig = inspect.signature(func)\n",
    "    \n",
    "    # Check required parameters\n",
    "    missing = []\n",
    "    for name, param in sig.parameters.items():\n",
    "        if param.default is param.empty and name not in params_dict:\n",
    "            missing.append(name)\n",
    "    \n",
    "    if missing:\n",
    "        return False, f\"Missing required parameters: {', '.join(missing)}\"\n",
    "    \n",
    "    # Check parameter types (basic validation)\n",
    "    type_hints = get_type_hints(func)\n",
    "    for name, value in params_dict.items():\n",
    "        if name in type_hints:\n",
    "            expected_type = type_hints[name]\n",
    "            origin = typing.get_origin(expected_type) or expected_type\n",
    "            \n",
    "            if origin == list and not isinstance(value, list):\n",
    "                return False, f\"Parameter '{name}' should be a list\"\n",
    "            elif origin == int and not isinstance(value, int):\n",
    "                return False, f\"Parameter '{name}' should be an integer\"\n",
    "            elif origin == float and not isinstance(value, (int, float)):\n",
    "                return False, f\"Parameter '{name}' should be a number\"\n",
    "    \n",
    "    return True, None\n"
   ]
  },
  {
   "cell_type": "code",
   "execution_count": 55,
   "id": "b0d8b7ec",
   "metadata": {},
   "outputs": [],
   "source": [
    "def validate_parameters(params_dict, func):\n",
    "    \"\"\"Validate extracted parameters against function signature\"\"\"\n",
    "    sig = inspect.signature(func)\n",
    "    \n",
    "    # Check required parameters\n",
    "    missing = []\n",
    "    for name, param in sig.parameters.items():\n",
    "        if param.default is param.empty and name not in params_dict:\n",
    "            missing.append(name)\n",
    "    \n",
    "    if missing:\n",
    "        return False, f\"Missing required parameters: {', '.join(missing)}\"\n",
    "    \n",
    "    # Check parameter types\n",
    "    type_hints = get_type_hints(func)\n",
    "    for name, value in params_dict.items():\n",
    "        if name in type_hints:\n",
    "            expected_type = type_hints[name]\n",
    "            \n",
    "            # Handle list[float] specifically\n",
    "            if hasattr(expected_type, '__origin__') and expected_type.__origin__ is list:\n",
    "                if not isinstance(value, list):\n",
    "                    return False, f\"Parameter '{name}' should be a list\"\n",
    "                \n",
    "                # Check list elements\n",
    "                if hasattr(expected_type, '__args__') and expected_type.__args__:\n",
    "                    element_type = expected_type.__args__[0]\n",
    "                    if element_type is float:\n",
    "                        for i, item in enumerate(value):\n",
    "                            if not isinstance(item, (int, float)):\n",
    "                                return False, f\"Parameter '{name}[{i}]' should be a number, got {type(item).__name__}\"\n",
    "    \n",
    "    return True, None\n",
    "\n"
   ]
  },
  {
   "cell_type": "code",
   "execution_count": 56,
   "id": "d634650f",
   "metadata": {},
   "outputs": [],
   "source": [
    "from typing import List\n",
    "\n",
    "def add_multiple_numbers(numbers:List[float])->float:\n",
    "    \"\"\"\n",
    "    <|start|>Add the list of numbers. User may use keywords like `add`, `plus`, `+`<|end|>\n",
    "    Args:\n",
    "        numbers (list) : a list of numbers\n",
    "    Return:\n",
    "        float : the result of sum(numbers)\n",
    "    \"\"\"\n",
    "    return sum(numbers)"
   ]
  },
  {
   "cell_type": "code",
   "execution_count": 57,
   "id": "c7a4964a",
   "metadata": {},
   "outputs": [
    {
     "data": {
      "text/plain": [
       "(False, \"Parameter 'numbers[2]' should be a number, got str\")"
      ]
     },
     "execution_count": 57,
     "metadata": {},
     "output_type": "execute_result"
    }
   ],
   "source": [
    "params_dict = {\"numbers\": [1,2,\"3\"]}\n",
    "validate_parameters(params_dict, add_multiple_numbers)"
   ]
  },
  {
   "cell_type": "code",
   "execution_count": 62,
   "id": "f77cb058",
   "metadata": {},
   "outputs": [
    {
     "data": {
      "text/plain": [
       "True"
      ]
     },
     "execution_count": 62,
     "metadata": {},
     "output_type": "execute_result"
    }
   ],
   "source": [
    "user_input = \"/exit\"\n",
    "user_input.startswith(\"/\")"
   ]
  },
  {
   "cell_type": "code",
   "execution_count": null,
   "id": "fb63ca74",
   "metadata": {},
   "outputs": [],
   "source": []
  }
 ],
 "metadata": {
  "kernelspec": {
   "display_name": "broverse",
   "language": "python",
   "name": "python3"
  },
  "language_info": {
   "codemirror_mode": {
    "name": "ipython",
    "version": 3
   },
   "file_extension": ".py",
   "mimetype": "text/x-python",
   "name": "python",
   "nbconvert_exporter": "python",
   "pygments_lexer": "ipython3",
   "version": "3.11.11"
  }
 },
 "nbformat": 4,
 "nbformat_minor": 5
}
