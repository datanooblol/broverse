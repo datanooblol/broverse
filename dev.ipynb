{
 "cells": [
  {
   "cell_type": "code",
   "execution_count": 1,
   "id": "4df2a75f",
   "metadata": {},
   "outputs": [],
   "source": [
    "%load_ext autoreload\n",
    "%autoreload 2"
   ]
  },
  {
   "cell_type": "code",
   "execution_count": 2,
   "id": "63999e21",
   "metadata": {},
   "outputs": [],
   "source": [
    "from broverse.action import Action\n",
    "from broverse.flow import Flow\n",
    "from broverse.bedrock import BedrockChat\n",
    "from typing import Any\n",
    "import yaml"
   ]
  },
  {
   "cell_type": "code",
   "execution_count": 3,
   "id": "d88a7321",
   "metadata": {},
   "outputs": [],
   "source": [
    "class InputAction(Action):\n",
    "    def run(self, shared):\n",
    "        message = input(\"You: \")\n",
    "        shared['input'] = message\n",
    "        return message\n",
    "\n",
    "    def validate_next_action(self, inputs: Any) -> str:\n",
    "        if \"exit\" == inputs.lower():\n",
    "            return \"end\"\n",
    "        return \"router\"\n",
    "    \n",
    "class RouterAction(Action):\n",
    "    def __init__(self, system_prompt:str, model:BedrockChat):\n",
    "        super().__init__()\n",
    "        self.system_prompt = system_prompt\n",
    "        self.model = model\n",
    "\n",
    "    def run(self, shared):\n",
    "        input_message = shared.get(\"input\", \"No message\")\n",
    "        intent = self.model.run(self.system_prompt, [self.model.UserMessage(text=input_message)])\n",
    "        intent = intent.split(\"```yaml\")[1].split(\"```\")[0].strip()\n",
    "        intent = yaml.safe_load(intent)['action']\n",
    "        print(\"Intent:\", intent)\n",
    "        return intent\n",
    "    \n",
    "    def validate_next_action(self, inputs:Any) -> str:\n",
    "        if inputs == 'farewell':\n",
    "            return 'farewell'\n",
    "        return \"chat\"\n",
    "\n",
    "class ChatAction(Action):\n",
    "    def __init__(self, system_prompt:str, model:BedrockChat):\n",
    "        super().__init__()\n",
    "        self.system_prompt = system_prompt\n",
    "        self.model = model\n",
    "    \n",
    "    def run(self, shared):\n",
    "        if \"messages\" not in shared:\n",
    "            shared[\"messages\"] = []\n",
    "        input_message = shared.get(\"input\", \"No message\")\n",
    "        shared[\"messages\"].append(self.model.UserMessage(text=input_message))\n",
    "        ai_response = self.model.run(self.system_prompt, shared[\"messages\"])\n",
    "        shared[\"messages\"].append(self.model.AIMessage(text=ai_response))\n",
    "        print(\"AI:\", ai_response)\n",
    "        return ai_response\n",
    "    \n",
    "    def validate_next_action(self, inputs: Any) -> str:\n",
    "        return \"continue\"\n",
    "    \n",
    "class FarewellAction(Action):\n",
    "    def __init__(self, system_prompt:str, model:BedrockChat):\n",
    "        super().__init__()\n",
    "        self.system_prompt = system_prompt\n",
    "        self.model = model    \n",
    "\n",
    "    def run(self, shared):\n",
    "        if \"messages\" not in shared:\n",
    "            shared[\"messages\"] = []\n",
    "        input_message = shared.get(\"input\", \"No message\")\n",
    "        shared[\"messages\"].append(self.model.UserMessage(text=f\"{input_message}\\n\\nI gotta go now. See ya next time.\"))\n",
    "        ai_response = self.model.run(self.system_prompt, shared[\"messages\"])\n",
    "        shared[\"messages\"].append(self.model.AIMessage(text=ai_response))\n",
    "        print(\"AI:\", ai_response)\n",
    "        return ai_response\n",
    "    \n",
    "    def validate_next_action(self, inputs: Any) -> str:\n",
    "        return \"end\"\n",
    "\n",
    "class End(Action):\n",
    "    def run(self, shared):\n",
    "        return None\n",
    "\n",
    "router_prompt = \"\"\"\\\n",
    "classify a user's intent based on the input messages. \n",
    "Intent options are:\n",
    "1. continue if nothing goes wrong\n",
    "2. farewell if a user's message indicate that he or she wants to go somewhere\n",
    "\n",
    "Return your response in codeblock with this following yaml format:\n",
    "```yaml\n",
    "action: either continue or farewell\n",
    "```\n",
    "\n",
    "IMPORTANT: Make sure to:\n",
    "1. Use proper indentation (4 spaces) for all multi-line fields\n",
    "2. Use the | character for multi-line text fields\n",
    "3. Keep single-line fields without the | character\n",
    "\"\"\".strip()"
   ]
  },
  {
   "cell_type": "code",
   "execution_count": 4,
   "id": "1acd3b9e",
   "metadata": {},
   "outputs": [],
   "source": [
    "input_action = InputAction()\n",
    "chat_action = ChatAction(\n",
    "    system_prompt=\"You are a helpful assistant\",\n",
    "    model=BedrockChat()\n",
    ")\n",
    "router_action = RouterAction(\n",
    "    system_prompt=router_prompt,\n",
    "    model=BedrockChat()\n",
    ")\n",
    "\n",
    "farewell_action = FarewellAction(\n",
    "    system_prompt=\"Your job is to farewell a user.\",\n",
    "    model=BedrockChat()\n",
    ")"
   ]
  },
  {
   "cell_type": "code",
   "execution_count": 5,
   "id": "09887cfe",
   "metadata": {},
   "outputs": [],
   "source": [
    "input_action -\"router\">> router_action\n",
    "router_action -\"chat\">> chat_action\n",
    "router_action -\"farewell\">> farewell_action\n",
    "chat_action -\"continue\">> input_action\n",
    "\n",
    "for action in [input_action, farewell_action]:\n",
    "    action -\"end\">> End()\n"
   ]
  },
  {
   "cell_type": "code",
   "execution_count": 6,
   "id": "d7ef6586",
   "metadata": {},
   "outputs": [],
   "source": [
    "flow = Flow(start_action=input_action)\n",
    "flow.save_mermaid(filename=\"flow_chart.md\")"
   ]
  },
  {
   "cell_type": "code",
   "execution_count": 7,
   "id": "2fde832e",
   "metadata": {},
   "outputs": [
    {
     "name": "stdout",
     "output_type": "stream",
     "text": [
      "```mermaid\n",
      "flowchart TD\n",
      "    InputAction -->|router| RouterAction\n",
      "    RouterAction -->|chat| ChatAction\n",
      "    ChatAction -->|continue| InputAction\n",
      "    RouterAction -->|farewell| FarewellAction\n",
      "    FarewellAction -->|end| End\n",
      "    InputAction -->|end| End\n",
      "```\n"
     ]
    }
   ],
   "source": [
    "chart = flow.to_mermaid()\n",
    "print(chart)"
   ]
  },
  {
   "cell_type": "code",
   "execution_count": 8,
   "id": "cd5ba58f",
   "metadata": {},
   "outputs": [
    {
     "name": "stdout",
     "output_type": "stream",
     "text": [
      "Intent: farewell\n",
      "AI: It was nice chatting with you. Have a great day and I'll see you next time!\n"
     ]
    },
    {
     "data": {
      "text/plain": [
       "'default'"
      ]
     },
     "execution_count": 8,
     "metadata": {},
     "output_type": "execute_result"
    }
   ],
   "source": [
    "shared = {}\n",
    "flow.run(shared=shared)"
   ]
  }
 ],
 "metadata": {
  "kernelspec": {
   "display_name": "broverse",
   "language": "python",
   "name": "python3"
  },
  "language_info": {
   "codemirror_mode": {
    "name": "ipython",
    "version": 3
   },
   "file_extension": ".py",
   "mimetype": "text/x-python",
   "name": "python",
   "nbconvert_exporter": "python",
   "pygments_lexer": "ipython3",
   "version": "3.11.11"
  }
 },
 "nbformat": 4,
 "nbformat_minor": 5
}
